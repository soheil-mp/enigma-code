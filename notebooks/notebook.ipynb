{
 "cells": [
  {
   "cell_type": "markdown",
   "metadata": {},
   "source": [
    "<br>\n",
    "\n",
    "## Initial Setup\n",
    "\n",
    "---"
   ]
  },
  {
   "cell_type": "code",
   "execution_count": 7,
   "metadata": {},
   "outputs": [
    {
     "name": "stderr",
     "output_type": "stream",
     "text": [
      "USER_AGENT environment variable not set, consider setting it to identify your requests.\n",
      "USER_AGENT environment variable not set, consider setting it to identify your requests.\n",
      "/home/predator/.cache/pypoetry/virtualenvs/enigma-code-0aWLlfTL-py3.9/lib/python3.9/site-packages/sentence_transformers/cross_encoder/CrossEncoder.py:11: TqdmExperimentalWarning: Using `tqdm.autonotebook.tqdm` in notebook mode. Use `tqdm.tqdm` instead to force console mode (e.g. in jupyter console)\n",
      "  from tqdm.autonotebook import tqdm, trange\n"
     ]
    }
   ],
   "source": [
    "# Import the libraries\n",
    "import os\n",
    "import pandas as pd\n",
    "import importlib\n",
    "import langchain\n",
    "import langchain_community\n",
    "from langchain.document_loaders import *\n",
    "from sentence_transformers import SentenceTransformer\n",
    "from langchain.schema import Document\n",
    "from langchain.chains import *\n",
    "from langchain.text_splitter import * \n",
    "from langchain_community.embeddings import * \n",
    "from langchain_community.vectorstores import *\n",
    "import wandb\n",
    "from huggingface_hub import login\n",
    "import importlib\n",
    "import json\n",
    "from groq import Groq"
   ]
  },
  {
   "cell_type": "code",
   "execution_count": 8,
   "metadata": {},
   "outputs": [
    {
     "data": {
      "text/plain": [
       "'/home/predator/Desktop/code base/enigma-code'"
      ]
     },
     "execution_count": 8,
     "metadata": {},
     "output_type": "execute_result"
    }
   ],
   "source": [
    "# Change the path to root directory\n",
    "os.chdir('..') \n",
    "\n",
    "# Print the current working directory\n",
    "os.getcwd()  "
   ]
  },
  {
   "cell_type": "code",
   "execution_count": 9,
   "metadata": {},
   "outputs": [],
   "source": [
    "# Import the local modules\n",
    "import enigma_code\n",
    "import enigma_code as ec\n",
    "from enigma_code import data\n",
    "from enigma_code import vectorstore\n",
    "from enigma_code import rag\n",
    "from enigma_code import agents"
   ]
  },
  {
   "cell_type": "code",
   "execution_count": 10,
   "metadata": {},
   "outputs": [
    {
     "data": {
      "text/plain": [
       "<module 'enigma_code.agents' from '/home/predator/Desktop/code base/enigma-code/enigma_code/agents.py'>"
      ]
     },
     "execution_count": 10,
     "metadata": {},
     "output_type": "execute_result"
    }
   ],
   "source": [
    "# Assuming enigma_code was already imported as shown in the active selection\n",
    "importlib.reload(enigma_code)\n",
    "\n",
    "# If you have imported submodules or used aliases, you might need to reload those as well\n",
    "importlib.reload(ec)\n",
    "importlib.reload(data)\n",
    "importlib.reload(vectorstore)\n",
    "importlib.reload(rag)\n",
    "importlib.reload(agents)"
   ]
  },
  {
   "cell_type": "code",
   "execution_count": 11,
   "metadata": {},
   "outputs": [
    {
     "data": {
      "text/plain": [
       "True"
      ]
     },
     "execution_count": 11,
     "metadata": {},
     "output_type": "execute_result"
    }
   ],
   "source": [
    "# Load .env file\n",
    "from dotenv import load_dotenv\n",
    "load_dotenv(dotenv_path='.env')"
   ]
  },
  {
   "cell_type": "code",
   "execution_count": 12,
   "metadata": {},
   "outputs": [
    {
     "name": "stdout",
     "output_type": "stream",
     "text": [
      "The token has not been saved to the git credentials helper. Pass `add_to_git_credential=True` in this function directly or `--add-to-git-credential` if using via `huggingface-cli` if you want to set the git credential as well.\n",
      "Token is valid (permission: fineGrained).\n",
      "Your token has been saved to /home/predator/.cache/huggingface/token\n",
      "Login successful\n"
     ]
    }
   ],
   "source": [
    "# Login to the Hugging Face Hub\n",
    "login(token=os.getenv('HUGGINGFACEHUB_API_TOKEN'))"
   ]
  },
  {
   "cell_type": "code",
   "execution_count": 7,
   "metadata": {},
   "outputs": [
    {
     "name": "stderr",
     "output_type": "stream",
     "text": [
      "2024-07-22 11:54:32,098 - ERROR - Failed to detect the name of this notebook, you can set it manually with the WANDB_NOTEBOOK_NAME environment variable to enable code saving.\n",
      "\u001b[34m\u001b[1mwandb\u001b[0m: Currently logged in as: \u001b[33msoheil-mpg\u001b[0m. Use \u001b[1m`wandb login --relogin`\u001b[0m to force relogin\n"
     ]
    },
    {
     "data": {
      "text/plain": [
       "True"
      ]
     },
     "execution_count": 7,
     "metadata": {},
     "output_type": "execute_result"
    }
   ],
   "source": [
    "# Login to the Weights and Biases (WandB)\n",
    "wandb.login(key=os.getenv('WANDB_API_KEY'))\n",
    "\n",
    "# run = wandb.init(\n",
    "#     project='Fine-tune Llama 3 8B on Medical Dataset', \n",
    "#     job_type=\"training\", \n",
    "#     anonymous=\"allow\"\n",
    "# )"
   ]
  },
  {
   "cell_type": "markdown",
   "metadata": {},
   "source": [
    "<br>\n",
    "\n",
    "## Load Dataset\n",
    "\n",
    "---\n",
    "\n",
    "In this section, we will load the dataset from various sources."
   ]
  },
  {
   "cell_type": "markdown",
   "metadata": {},
   "source": [
    "#### Local Resources"
   ]
  },
  {
   "cell_type": "code",
   "execution_count": 8,
   "metadata": {},
   "outputs": [],
   "source": [
    "# Instantiat the data handler\n",
    "data_handler = ec.data.DataHandler()"
   ]
  },
  {
   "cell_type": "code",
   "execution_count": 9,
   "metadata": {},
   "outputs": [
    {
     "data": {
      "text/plain": [
       "[Document(metadata={'source': 'datasets/rules_and_regulations.txt'}, page_content=\"1. Guests will be charged per night.\\n2. Check-in time is 2:00 p.m. on the day of arrival and the check-out time is 12:00 p.m. on the day of departure.\\n3. If upon check-in the guest does not specify the duration of his or her stay the hotel will presume it is for one night.\\n4. Guest must show up before 2 p.m., and then the booking will be cancelled if there is no contact from guest.\\n5. Only 2 guests are allowed to stay in a room. Children older than 7 years old or the third guest must pay 500 Thai baht for extra bed.\\n6. Baby cot can be provided to a child under 2 years old upon request.\\n7. Bills must be settled by cash or valid credit card, personal cheques are not accepted.\\n8. Guests wishing to check out later than 2:00 p.m. are kindly requested to ask for permission from our reception before 12:00 p.m. (subject to room availability, otherwise it will be charged for one additional night.\\n9. Smoking is strictly not allowed in the hotel and violator is subject to a fine of 2,000 THB (Two Thousand Thai Baht).\\n10. Removing items from guest rooms or moving them to other places in the hotel is prohibited. Violator is subject to a fine of up to 5,000 THB (Five Thousand Thai baht).\\n11. When not being used, do not touch the fire extinguisher.\\n12. Inviting strangers into the guest rooms, to use the facilities and or amenities is prohibited. For security reason, joiner must register at reception before entering the room.\\n13. Hanging of any items in guest room windows that might ruin the beauty of our hotel appearance is prohibited.\\n14. Ordering and delivery of food from outside our hotel is prohibited.\\n15. Hanging of any items in guest room windows that might ruin the beauty of our hotel appearance is prohibited.\\n16. Pets may not be brought into the Hotel.\\n17. Installation of any foreign item in to guest rooms or any part of our building is prohibited.\\n18. Use of phones in guest rooms will be charged to your bill.\\n19. Guests wishing to extend their stay beyond the date given while checking in are kindly asked to inform our reception before 10:00 a.m. on the original departure date.\\n20. Extension of your stay without reservation is subject to room availability.\\n21. No guest is allowed to give up his or her room to be used by third parties even if the room has been duly paid for.\\n22. Gambling or any other behavior that is against public morals in the hallways or guest rooms is prohibited.\\n23. Any damage should be reported to our reception immediately after it becomes apparent.\\n24. The use of guest rooms or the lobby as an office is prohibited.\\n25. Bringing illegal items, exotic plants or animals is prohibited.\\n26. Durian or anything that causes bad smell is strictly not allowed in the hotel.\\n27. Guests and other individuals using the hotel services are asked to make sure their conduct should not disturb other guests. The hotel may refuse its services to individuals who violate this rule.\\n28. Guests are expected to lock their rooms properly to prevent access of third parties. Upon leaving their rooms guests must close and lock the doors, windows and anti-burglary rolling shutters. The Management will not in any way whatsoever be responsible for any loss / or damage to the Guest's belongings or any other property from either the hotel room or the locker or any other part of the hotel for any cause whatsoever including theft of pilferage.\\n29. Guests are expected to keep all the equipment and furniture in their rooms free from damage.\\n30. Guests shall be liable for any damage or loss of any equipment or furniture in the rooms up to the cost of repair or replacement.\\n31. Unwashable stains, rips or tears on linens or towels will be charged to your bill.\\n32. In case of loss or damage of key card 2,500 THB will be charged in the room bill.\\n33. Items left behind by a guest will be sent on demand by post at the guest’s expense to any address the guest may specify. If not specifically instructed the hotel will store such items for 15 days and then donate them to a charitable cause.\\n\")]"
      ]
     },
     "execution_count": 9,
     "metadata": {},
     "output_type": "execute_result"
    }
   ],
   "source": [
    "# Load a text dataset\n",
    "dataset = data_handler.load_dataset(\"datasets/rules_and_regulations.txt\")\n",
    "dataset"
   ]
  },
  {
   "cell_type": "code",
   "execution_count": 10,
   "metadata": {},
   "outputs": [
    {
     "data": {
      "text/plain": [
       "[Document(page_content='1. Guests will be charged per night.'),\n",
       " Document(page_content='2. Check-in time is 2:00 p.m. on the day of arrival and the check-out time is 12:00 p.m. on the day of departure.'),\n",
       " Document(page_content='3. If upon check-in the guest does not specify the duration of his or her stay the hotel will presume it is for one night.'),\n",
       " Document(page_content='4. Guest must show up before 2 p.m., and then the booking will be cancelled if there is no contact from guest.'),\n",
       " Document(page_content='5. Only 2 guests are allowed to stay in a room. Children older than 7 years old or the third guest must pay 500 Thai baht for extra bed.'),\n",
       " Document(page_content='6. Baby cot can be provided to a child under 2 years old upon request.'),\n",
       " Document(page_content='7. Bills must be settled by cash or valid credit card, personal cheques are not accepted.'),\n",
       " Document(page_content='8. Guests wishing to check out later than 2:00 p.m. are kindly requested to ask for permission from our reception before 12:00 p.m. (subject to room availability, otherwise it will be charged for one additional night.'),\n",
       " Document(page_content='9. Smoking is strictly not allowed in the hotel and violator is subject to a fine of 2,000 THB (Two Thousand Thai Baht).'),\n",
       " Document(page_content='10. Removing items from guest rooms or moving them to other places in the hotel is prohibited. Violator is subject to a fine of up to 5,000 THB (Five Thousand Thai baht).'),\n",
       " Document(page_content='11. When not being used, do not touch the fire extinguisher.'),\n",
       " Document(page_content='12. Inviting strangers into the guest rooms, to use the facilities and or amenities is prohibited. For security reason, joiner must register at reception before entering the room.'),\n",
       " Document(page_content='13. Hanging of any items in guest room windows that might ruin the beauty of our hotel appearance is prohibited.'),\n",
       " Document(page_content='14. Ordering and delivery of food from outside our hotel is prohibited.'),\n",
       " Document(page_content='15. Hanging of any items in guest room windows that might ruin the beauty of our hotel appearance is prohibited.'),\n",
       " Document(page_content='16. Pets may not be brought into the Hotel.'),\n",
       " Document(page_content='17. Installation of any foreign item in to guest rooms or any part of our building is prohibited.'),\n",
       " Document(page_content='18. Use of phones in guest rooms will be charged to your bill.'),\n",
       " Document(page_content='19. Guests wishing to extend their stay beyond the date given while checking in are kindly asked to inform our reception before 10:00 a.m. on the original departure date.'),\n",
       " Document(page_content='20. Extension of your stay without reservation is subject to room availability.'),\n",
       " Document(page_content='21. No guest is allowed to give up his or her room to be used by third parties even if the room has been duly paid for.'),\n",
       " Document(page_content='22. Gambling or any other behavior that is against public morals in the hallways or guest rooms is prohibited.'),\n",
       " Document(page_content='23. Any damage should be reported to our reception immediately after it becomes apparent.'),\n",
       " Document(page_content='24. The use of guest rooms or the lobby as an office is prohibited.'),\n",
       " Document(page_content='25. Bringing illegal items, exotic plants or animals is prohibited.'),\n",
       " Document(page_content='26. Durian or anything that causes bad smell is strictly not allowed in the hotel.'),\n",
       " Document(page_content='27. Guests and other individuals using the hotel services are asked to make sure their conduct should not disturb other guests. The hotel may refuse its services to individuals who violate this rule.'),\n",
       " Document(page_content=\"28. Guests are expected to lock their rooms properly to prevent access of third parties. Upon leaving their rooms guests must close and lock the doors, windows and anti-burglary rolling shutters. The Management will not in any way whatsoever be responsible for any loss / or damage to the Guest's belongings or any other property from either the hotel room or the locker or any other part of the hotel for any cause whatsoever including theft of pilferage.\"),\n",
       " Document(page_content='29. Guests are expected to keep all the equipment and furniture in their rooms free from damage.'),\n",
       " Document(page_content='30. Guests shall be liable for any damage or loss of any equipment or furniture in the rooms up to the cost of repair or replacement.'),\n",
       " Document(page_content='31. Unwashable stains, rips or tears on linens or towels will be charged to your bill.'),\n",
       " Document(page_content='32. In case of loss or damage of key card 2,500 THB will be charged in the room bill.'),\n",
       " Document(page_content='33. Items left behind by a guest will be sent on demand by post at the guest’s expense to any address the guest may specify. If not specifically instructed the hotel will store such items for 15 days and then donate them to a charitable cause.'),\n",
       " Document(page_content='')]"
      ]
     },
     "execution_count": 10,
     "metadata": {},
     "output_type": "execute_result"
    }
   ],
   "source": [
    "# Chunk the dataset \n",
    "chunks = data_handler.chunk_dataset(documents=dataset, chunk_type=\"newline\", chunk_size=None, chunk_overlap=None)\n",
    "chunks"
   ]
  },
  {
   "cell_type": "code",
   "execution_count": 11,
   "metadata": {},
   "outputs": [
    {
     "data": {
      "text/plain": [
       "1"
      ]
     },
     "execution_count": 11,
     "metadata": {},
     "output_type": "execute_result"
    }
   ],
   "source": [
    "len(dataset)"
   ]
  },
  {
   "cell_type": "code",
   "execution_count": 12,
   "metadata": {},
   "outputs": [
    {
     "data": {
      "text/plain": [
       "34"
      ]
     },
     "execution_count": 12,
     "metadata": {},
     "output_type": "execute_result"
    }
   ],
   "source": [
    "len(chunks)"
   ]
  },
  {
   "cell_type": "code",
   "execution_count": 13,
   "metadata": {},
   "outputs": [],
   "source": [
    "# TODO: Add functions for cleaning (e.g., beutiful soup, regex, etc.)\n",
    "# TODO: Add functions for preprocessing (e.g., tokenization, lemmatization, etc.)"
   ]
  },
  {
   "cell_type": "markdown",
   "metadata": {},
   "source": [
    "#### Databases"
   ]
  },
  {
   "cell_type": "code",
   "execution_count": 14,
   "metadata": {},
   "outputs": [],
   "source": [
    "# Instantiate the database query tool\n",
    "db_query_tool = ec.data.DatabaseQueryTool(\n",
    "    database_type=\"mysql\",\n",
    "    username=os.environ.get(\"MYSQL_USERNAME\"),\n",
    "    password=os.environ.get(\"MYSQL_PASSWORD\"),\n",
    "    database=\"company_x\",\n",
    "    host=os.environ.get(\"MYSQL_HOST\"),\n",
    "    port=os.environ.get(\"MYSQL_PORT\")\n",
    ")"
   ]
  },
  {
   "cell_type": "code",
   "execution_count": 15,
   "metadata": {},
   "outputs": [
    {
     "data": {
      "text/plain": [
       "[('chat_history',), ('company_knowledge_base',), ('faq',), ('users',)]"
      ]
     },
     "execution_count": 15,
     "metadata": {},
     "output_type": "execute_result"
    }
   ],
   "source": [
    "# List all available tables\n",
    "db_query_tool.run_sql_query(\"SHOW TABLES\")"
   ]
  },
  {
   "cell_type": "code",
   "execution_count": 16,
   "metadata": {},
   "outputs": [
    {
     "data": {
      "text/plain": [
       "'Chat History: '"
      ]
     },
     "metadata": {},
     "output_type": "display_data"
    },
    {
     "data": {
      "text/html": [
       "<div>\n",
       "<style scoped>\n",
       "    .dataframe tbody tr th:only-of-type {\n",
       "        vertical-align: middle;\n",
       "    }\n",
       "\n",
       "    .dataframe tbody tr th {\n",
       "        vertical-align: top;\n",
       "    }\n",
       "\n",
       "    .dataframe thead th {\n",
       "        text-align: right;\n",
       "    }\n",
       "</style>\n",
       "<table border=\"1\" class=\"dataframe\">\n",
       "  <thead>\n",
       "    <tr style=\"text-align: right;\">\n",
       "      <th></th>\n",
       "      <th>session_id</th>\n",
       "      <th>user_id</th>\n",
       "      <th>question</th>\n",
       "      <th>response</th>\n",
       "      <th>chat_date</th>\n",
       "    </tr>\n",
       "  </thead>\n",
       "  <tbody>\n",
       "    <tr>\n",
       "      <th>0</th>\n",
       "      <td>1</td>\n",
       "      <td>1</td>\n",
       "      <td>How do I change my password?</td>\n",
       "      <td>You can change your password from the settings...</td>\n",
       "      <td>2024-07-15 20:00:41</td>\n",
       "    </tr>\n",
       "    <tr>\n",
       "      <th>1</th>\n",
       "      <td>2</td>\n",
       "      <td>2</td>\n",
       "      <td>Where can I find the refund policy?</td>\n",
       "      <td>The refund policy can be found under the Terms...</td>\n",
       "      <td>2024-07-15 20:00:41</td>\n",
       "    </tr>\n",
       "    <tr>\n",
       "      <th>2</th>\n",
       "      <td>3</td>\n",
       "      <td>3</td>\n",
       "      <td>Can I update my email address?</td>\n",
       "      <td>Yes, you can update your email in account sett...</td>\n",
       "      <td>2024-07-15 20:00:41</td>\n",
       "    </tr>\n",
       "    <tr>\n",
       "      <th>3</th>\n",
       "      <td>4</td>\n",
       "      <td>4</td>\n",
       "      <td>What are the support hours?</td>\n",
       "      <td>Our support is available 24/7.</td>\n",
       "      <td>2024-07-15 20:00:41</td>\n",
       "    </tr>\n",
       "    <tr>\n",
       "      <th>4</th>\n",
       "      <td>5</td>\n",
       "      <td>5</td>\n",
       "      <td>How to track my order?</td>\n",
       "      <td>You can track your order through the Orders se...</td>\n",
       "      <td>2024-07-15 20:00:41</td>\n",
       "    </tr>\n",
       "  </tbody>\n",
       "</table>\n",
       "</div>"
      ],
      "text/plain": [
       "   session_id  user_id                             question  \\\n",
       "0           1        1         How do I change my password?   \n",
       "1           2        2  Where can I find the refund policy?   \n",
       "2           3        3       Can I update my email address?   \n",
       "3           4        4          What are the support hours?   \n",
       "4           5        5               How to track my order?   \n",
       "\n",
       "                                            response           chat_date  \n",
       "0  You can change your password from the settings... 2024-07-15 20:00:41  \n",
       "1  The refund policy can be found under the Terms... 2024-07-15 20:00:41  \n",
       "2  Yes, you can update your email in account sett... 2024-07-15 20:00:41  \n",
       "3                     Our support is available 24/7. 2024-07-15 20:00:41  \n",
       "4  You can track your order through the Orders se... 2024-07-15 20:00:41  "
      ]
     },
     "metadata": {},
     "output_type": "display_data"
    },
    {
     "data": {
      "text/plain": [
       "'Company Knowledge Base: '"
      ]
     },
     "metadata": {},
     "output_type": "display_data"
    },
    {
     "data": {
      "text/html": [
       "<div>\n",
       "<style scoped>\n",
       "    .dataframe tbody tr th:only-of-type {\n",
       "        vertical-align: middle;\n",
       "    }\n",
       "\n",
       "    .dataframe tbody tr th {\n",
       "        vertical-align: top;\n",
       "    }\n",
       "\n",
       "    .dataframe thead th {\n",
       "        text-align: right;\n",
       "    }\n",
       "</style>\n",
       "<table border=\"1\" class=\"dataframe\">\n",
       "  <thead>\n",
       "    <tr style=\"text-align: right;\">\n",
       "      <th></th>\n",
       "      <th>kb_id</th>\n",
       "      <th>category</th>\n",
       "      <th>sub_category</th>\n",
       "      <th>text_content</th>\n",
       "      <th>created_date</th>\n",
       "    </tr>\n",
       "  </thead>\n",
       "  <tbody>\n",
       "    <tr>\n",
       "      <th>0</th>\n",
       "      <td>1</td>\n",
       "      <td>Privacy Policy</td>\n",
       "      <td>General</td>\n",
       "      <td>Our privacy policy outlines how we handle your...</td>\n",
       "      <td>2024-07-15 20:00:41</td>\n",
       "    </tr>\n",
       "    <tr>\n",
       "      <th>1</th>\n",
       "      <td>2</td>\n",
       "      <td>Terms of Service</td>\n",
       "      <td>Usage</td>\n",
       "      <td>Terms of service governing the use of our serv...</td>\n",
       "      <td>2024-07-15 20:00:41</td>\n",
       "    </tr>\n",
       "    <tr>\n",
       "      <th>2</th>\n",
       "      <td>3</td>\n",
       "      <td>Refund Policy</td>\n",
       "      <td>E-commerce</td>\n",
       "      <td>Our refund policy for purchases made on our pl...</td>\n",
       "      <td>2024-07-15 20:00:41</td>\n",
       "    </tr>\n",
       "    <tr>\n",
       "      <th>3</th>\n",
       "      <td>4</td>\n",
       "      <td>Legal</td>\n",
       "      <td>Compliance</td>\n",
       "      <td>Legal compliances that our company adheres to.</td>\n",
       "      <td>2024-07-15 20:00:41</td>\n",
       "    </tr>\n",
       "    <tr>\n",
       "      <th>4</th>\n",
       "      <td>5</td>\n",
       "      <td>Refund Policy</td>\n",
       "      <td>Subscriptions</td>\n",
       "      <td>How refunds are handled for subscription servi...</td>\n",
       "      <td>2024-07-15 20:00:41</td>\n",
       "    </tr>\n",
       "  </tbody>\n",
       "</table>\n",
       "</div>"
      ],
      "text/plain": [
       "   kb_id          category   sub_category  \\\n",
       "0      1    Privacy Policy        General   \n",
       "1      2  Terms of Service          Usage   \n",
       "2      3     Refund Policy     E-commerce   \n",
       "3      4             Legal     Compliance   \n",
       "4      5     Refund Policy  Subscriptions   \n",
       "\n",
       "                                        text_content        created_date  \n",
       "0  Our privacy policy outlines how we handle your... 2024-07-15 20:00:41  \n",
       "1  Terms of service governing the use of our serv... 2024-07-15 20:00:41  \n",
       "2  Our refund policy for purchases made on our pl... 2024-07-15 20:00:41  \n",
       "3     Legal compliances that our company adheres to. 2024-07-15 20:00:41  \n",
       "4  How refunds are handled for subscription servi... 2024-07-15 20:00:41  "
      ]
     },
     "metadata": {},
     "output_type": "display_data"
    },
    {
     "data": {
      "text/plain": [
       "'FAQ: '"
      ]
     },
     "metadata": {},
     "output_type": "display_data"
    },
    {
     "data": {
      "text/html": [
       "<div>\n",
       "<style scoped>\n",
       "    .dataframe tbody tr th:only-of-type {\n",
       "        vertical-align: middle;\n",
       "    }\n",
       "\n",
       "    .dataframe tbody tr th {\n",
       "        vertical-align: top;\n",
       "    }\n",
       "\n",
       "    .dataframe thead th {\n",
       "        text-align: right;\n",
       "    }\n",
       "</style>\n",
       "<table border=\"1\" class=\"dataframe\">\n",
       "  <thead>\n",
       "    <tr style=\"text-align: right;\">\n",
       "      <th></th>\n",
       "      <th>faq_id</th>\n",
       "      <th>question</th>\n",
       "      <th>answer</th>\n",
       "      <th>category</th>\n",
       "      <th>sub_category</th>\n",
       "      <th>created_at</th>\n",
       "    </tr>\n",
       "  </thead>\n",
       "  <tbody>\n",
       "    <tr>\n",
       "      <th>0</th>\n",
       "      <td>1</td>\n",
       "      <td>How do I reset my password?</td>\n",
       "      <td>You can reset your password by going to settings.</td>\n",
       "      <td>Account</td>\n",
       "      <td>Settings</td>\n",
       "      <td>2024-07-15 20:00:41</td>\n",
       "    </tr>\n",
       "    <tr>\n",
       "      <th>1</th>\n",
       "      <td>2</td>\n",
       "      <td>Where can I view my transactions?</td>\n",
       "      <td>Your transactions are available under the Hist...</td>\n",
       "      <td>Account</td>\n",
       "      <td>History</td>\n",
       "      <td>2024-07-15 20:00:41</td>\n",
       "    </tr>\n",
       "    <tr>\n",
       "      <th>2</th>\n",
       "      <td>3</td>\n",
       "      <td>How do I contact support?</td>\n",
       "      <td>Support can be reached via the Contact Us page.</td>\n",
       "      <td>Support</td>\n",
       "      <td>General</td>\n",
       "      <td>2024-07-15 20:00:41</td>\n",
       "    </tr>\n",
       "    <tr>\n",
       "      <th>3</th>\n",
       "      <td>4</td>\n",
       "      <td>What is the refund policy?</td>\n",
       "      <td>Our refund policy is outlined in the Terms of ...</td>\n",
       "      <td>Purchase</td>\n",
       "      <td>Refunds</td>\n",
       "      <td>2024-07-15 20:00:41</td>\n",
       "    </tr>\n",
       "    <tr>\n",
       "      <th>4</th>\n",
       "      <td>5</td>\n",
       "      <td>Do you offer discounts?</td>\n",
       "      <td>Current discount offers are listed on our Prom...</td>\n",
       "      <td>Sales</td>\n",
       "      <td>Promotions</td>\n",
       "      <td>2024-07-15 20:00:41</td>\n",
       "    </tr>\n",
       "  </tbody>\n",
       "</table>\n",
       "</div>"
      ],
      "text/plain": [
       "   faq_id                           question  \\\n",
       "0       1        How do I reset my password?   \n",
       "1       2  Where can I view my transactions?   \n",
       "2       3          How do I contact support?   \n",
       "3       4         What is the refund policy?   \n",
       "4       5            Do you offer discounts?   \n",
       "\n",
       "                                              answer  category sub_category  \\\n",
       "0  You can reset your password by going to settings.   Account     Settings   \n",
       "1  Your transactions are available under the Hist...   Account      History   \n",
       "2    Support can be reached via the Contact Us page.   Support      General   \n",
       "3  Our refund policy is outlined in the Terms of ...  Purchase      Refunds   \n",
       "4  Current discount offers are listed on our Prom...     Sales   Promotions   \n",
       "\n",
       "           created_at  \n",
       "0 2024-07-15 20:00:41  \n",
       "1 2024-07-15 20:00:41  \n",
       "2 2024-07-15 20:00:41  \n",
       "3 2024-07-15 20:00:41  \n",
       "4 2024-07-15 20:00:41  "
      ]
     },
     "metadata": {},
     "output_type": "display_data"
    },
    {
     "data": {
      "text/plain": [
       "'Users: '"
      ]
     },
     "metadata": {},
     "output_type": "display_data"
    },
    {
     "data": {
      "text/html": [
       "<div>\n",
       "<style scoped>\n",
       "    .dataframe tbody tr th:only-of-type {\n",
       "        vertical-align: middle;\n",
       "    }\n",
       "\n",
       "    .dataframe tbody tr th {\n",
       "        vertical-align: top;\n",
       "    }\n",
       "\n",
       "    .dataframe thead th {\n",
       "        text-align: right;\n",
       "    }\n",
       "</style>\n",
       "<table border=\"1\" class=\"dataframe\">\n",
       "  <thead>\n",
       "    <tr style=\"text-align: right;\">\n",
       "      <th></th>\n",
       "      <th>user_id</th>\n",
       "      <th>first_name</th>\n",
       "      <th>last_name</th>\n",
       "      <th>email</th>\n",
       "      <th>password</th>\n",
       "      <th>created_at</th>\n",
       "      <th>role</th>\n",
       "    </tr>\n",
       "  </thead>\n",
       "  <tbody>\n",
       "    <tr>\n",
       "      <th>0</th>\n",
       "      <td>1</td>\n",
       "      <td>Alice</td>\n",
       "      <td>Johnson</td>\n",
       "      <td>alice.johnson@email.com</td>\n",
       "      <td>password123</td>\n",
       "      <td>2024-07-15 20:00:41</td>\n",
       "      <td>user</td>\n",
       "    </tr>\n",
       "    <tr>\n",
       "      <th>1</th>\n",
       "      <td>2</td>\n",
       "      <td>Bob</td>\n",
       "      <td>Smith</td>\n",
       "      <td>bob.smith@email.com</td>\n",
       "      <td>password123</td>\n",
       "      <td>2024-07-15 20:00:41</td>\n",
       "      <td>admin</td>\n",
       "    </tr>\n",
       "    <tr>\n",
       "      <th>2</th>\n",
       "      <td>3</td>\n",
       "      <td>Carol</td>\n",
       "      <td>Taylor</td>\n",
       "      <td>carol.taylor@email.com</td>\n",
       "      <td>password123</td>\n",
       "      <td>2024-07-15 20:00:41</td>\n",
       "      <td>user</td>\n",
       "    </tr>\n",
       "    <tr>\n",
       "      <th>3</th>\n",
       "      <td>4</td>\n",
       "      <td>David</td>\n",
       "      <td>Brown</td>\n",
       "      <td>david.brown@email.com</td>\n",
       "      <td>password123</td>\n",
       "      <td>2024-07-15 20:00:41</td>\n",
       "      <td>user</td>\n",
       "    </tr>\n",
       "    <tr>\n",
       "      <th>4</th>\n",
       "      <td>5</td>\n",
       "      <td>Emma</td>\n",
       "      <td>Davis</td>\n",
       "      <td>emma.davis@email.com</td>\n",
       "      <td>password123</td>\n",
       "      <td>2024-07-15 20:00:41</td>\n",
       "      <td>user</td>\n",
       "    </tr>\n",
       "  </tbody>\n",
       "</table>\n",
       "</div>"
      ],
      "text/plain": [
       "   user_id first_name last_name                    email     password  \\\n",
       "0        1      Alice   Johnson  alice.johnson@email.com  password123   \n",
       "1        2        Bob     Smith      bob.smith@email.com  password123   \n",
       "2        3      Carol    Taylor   carol.taylor@email.com  password123   \n",
       "3        4      David     Brown    david.brown@email.com  password123   \n",
       "4        5       Emma     Davis     emma.davis@email.com  password123   \n",
       "\n",
       "           created_at   role  \n",
       "0 2024-07-15 20:00:41   user  \n",
       "1 2024-07-15 20:00:41  admin  \n",
       "2 2024-07-15 20:00:41   user  \n",
       "3 2024-07-15 20:00:41   user  \n",
       "4 2024-07-15 20:00:41   user  "
      ]
     },
     "metadata": {},
     "output_type": "display_data"
    }
   ],
   "source": [
    "# Load the tables\n",
    "chat_history_df = pd.read_sql_query(sql=\"SELECT * FROM company_x.chat_history\", con=db_query_tool.engine)\n",
    "company_knowledge_base_df = pd.read_sql_query(sql=\"SELECT * FROM company_x.company_knowledge_base\", con=db_query_tool.engine)\n",
    "faq_df = pd.read_sql_query(sql=\"SELECT * FROM company_x.faq\", con=db_query_tool.engine)\n",
    "users_df = pd.read_sql_query(sql=\"SELECT * FROM company_x.users\", con=db_query_tool.engine)\n",
    "\n",
    "# Display the chat history\n",
    "display(\"Chat History: \", chat_history_df.head())\n",
    "display(\"Company Knowledge Base: \", company_knowledge_base_df.head())\n",
    "display(\"FAQ: \", faq_df.head())\n",
    "display(\"Users: \", users_df.head())"
   ]
  },
  {
   "cell_type": "markdown",
   "metadata": {},
   "source": [
    "<br>\n",
    "\n",
    "## RAG\n",
    "\n",
    "---\n",
    "\n",
    "Transform the knowledge base dataset into embedding vectors and save them in the vector store for use in the RAG process."
   ]
  },
  {
   "cell_type": "markdown",
   "metadata": {},
   "source": [
    "#### Vectorstore"
   ]
  },
  {
   "cell_type": "code",
   "execution_count": 17,
   "metadata": {},
   "outputs": [
    {
     "name": "stderr",
     "output_type": "stream",
     "text": [
      "/home/predator/.cache/pypoetry/virtualenvs/enigma-code-0aWLlfTL-py3.9/lib/python3.9/site-packages/langchain_core/_api/deprecation.py:139: LangChainDeprecationWarning: The class `OpenAIEmbeddings` was deprecated in LangChain 0.0.9 and will be removed in 0.3.0. An updated version of the class exists in the langchain-openai package and should be used instead. To use it run `pip install -U langchain-openai` and import as `from langchain_openai import OpenAIEmbeddings`.\n",
      "  warn_deprecated(\n"
     ]
    }
   ],
   "source": [
    "# Initialize VectorStoreHandler\n",
    "vs = ec.vectorstore.VectorStoreManager(\n",
    "    vectorstore_name=\"pinecone\",\n",
    "    embedding_model=\"openai\",\n",
    "    index_name=\"index-name\"\n",
    ")"
   ]
  },
  {
   "cell_type": "code",
   "execution_count": 18,
   "metadata": {},
   "outputs": [],
   "source": [
    "# Load the vectorstore\n",
    "vectorstore = vs.load_vectorstore()"
   ]
  },
  {
   "cell_type": "code",
   "execution_count": 19,
   "metadata": {},
   "outputs": [
    {
     "data": {
      "text/plain": [
       "['d1341228-d2a9-41ed-986f-228248adc9c5',\n",
       " '50dd6d50-94e2-4a76-97e5-24470d7d9ece',\n",
       " 'c88e5e4e-6323-4d40-b477-8a571bae2f64']"
      ]
     },
     "execution_count": 19,
     "metadata": {},
     "output_type": "execute_result"
    }
   ],
   "source": [
    "# Add documents\n",
    "\n",
    "# Test adding documents\n",
    "documents = [\n",
    "    Document(page_content=\"This is a test document about AI.\", metadata={\"source\": \"test1\"}),\n",
    "    Document(page_content=\"Vector databases are useful for similarity search.\", metadata={\"source\": \"test2\"}),\n",
    "    Document(page_content=\"LangChain is a framework for developing applications powered by language models.\", metadata={\"source\": \"test3\"})\n",
    "]\n",
    "\n",
    "# Add documents to the vectorstore\n",
    "vectorstore.add_documents(documents=documents)"
   ]
  },
  {
   "cell_type": "code",
   "execution_count": 20,
   "metadata": {},
   "outputs": [
    {
     "data": {
      "text/plain": [
       "[Document(metadata={'source': 'test1'}, page_content='This is a test document about AI.'),\n",
       " Document(metadata={'source': 'test1'}, page_content='This is a test document about AI.'),\n",
       " Document(metadata={'source': 'test1'}, page_content='This is a test document about AI.'),\n",
       " Document(metadata={'source': 'test1'}, page_content='This is a test document about AI.')]"
      ]
     },
     "execution_count": 20,
     "metadata": {},
     "output_type": "execute_result"
    }
   ],
   "source": [
    "# Seach for similar documents\n",
    "query = \"This is a test document about AI.\"\n",
    "vectorstore.search(query=query, search_type=\"similarity\")"
   ]
  },
  {
   "cell_type": "code",
   "execution_count": 21,
   "metadata": {},
   "outputs": [
    {
     "data": {
      "text/plain": [
       "<langchain_community.vectorstores.pinecone.Pinecone at 0x7331fe6fc5b0>"
      ]
     },
     "execution_count": 21,
     "metadata": {},
     "output_type": "execute_result"
    }
   ],
   "source": [
    "vectorstore"
   ]
  },
  {
   "cell_type": "markdown",
   "metadata": {},
   "source": [
    "#### RAG"
   ]
  },
  {
   "cell_type": "code",
   "execution_count": 26,
   "metadata": {},
   "outputs": [],
   "source": [
    "# LLM\n",
    "llm = langchain_community.llms.Ollama(model=\"llama3\") #temperature=temperature, top_p=top_p)"
   ]
  },
  {
   "cell_type": "code",
   "execution_count": 27,
   "metadata": {},
   "outputs": [
    {
     "name": "stderr",
     "output_type": "stream",
     "text": [
      "/home/predator/.cache/pypoetry/virtualenvs/enigma-code-0aWLlfTL-py3.9/lib/python3.9/site-packages/langchain_core/_api/deprecation.py:139: LangChainDeprecationWarning: The class `HuggingFaceEmbeddings` was deprecated in LangChain 0.2.2 and will be removed in 0.3.0. An updated version of the class exists in the langchain-huggingface package and should be used instead. To use it run `pip install -U langchain-huggingface` and import as `from langchain_huggingface import HuggingFaceEmbeddings`.\n",
      "  warn_deprecated(\n"
     ]
    }
   ],
   "source": [
    "# Vectorstore\n",
    "loader = WebBaseLoader([\"https://huggingface.co/blog/llama3\"])\n",
    "docs = loader.load()\n",
    "text_splitter = langchain.text_splitter.RecursiveCharacterTextSplitter(chunk_size=500, chunk_overlap=50)\n",
    "all_splits = text_splitter.split_documents(docs)\n",
    "vectorstore = langchain_community.vectorstores.FAISS.from_documents(all_splits, langchain_community.embeddings.HuggingFaceEmbeddings(model_name=\"sentence-transformers/all-mpnet-base-v2\"))"
   ]
  },
  {
   "cell_type": "code",
   "execution_count": 28,
   "metadata": {},
   "outputs": [],
   "source": [
    "# RAG\n",
    "rag = enigma_code.rag.RAG(llm=llm, vectorstore=vectorstore)"
   ]
  },
  {
   "cell_type": "code",
   "execution_count": 30,
   "metadata": {},
   "outputs": [
    {
     "data": {
      "text/plain": [
       "\"According to the provided context, what's new with Llama 3 is:\\n\\n* The release of four new open LLM models based on the Llama 2 architecture.\\n* Two sizes are available: 8B and 70B parameters, each with base (pre-trained) and instruct-tuned versions.\\n* A new tokenizer that expands the vocabulary size to 128,256 tokens (up from 32K in the previous version).\\n* The larger vocabulary can encode text more efficiently for input and output, potentially yielding stronger multilingualism.\""
      ]
     },
     "execution_count": 30,
     "metadata": {},
     "output_type": "execute_result"
    }
   ],
   "source": [
    "# Ask a question based on the vectorstore\n",
    "rag.chat_query(\"What's new with Llama 3?\")"
   ]
  },
  {
   "cell_type": "code",
   "execution_count": 31,
   "metadata": {},
   "outputs": [
    {
     "data": {
      "text/plain": [
       "'Llama 3 is based on the Llama 2 architecture.'"
      ]
     },
     "execution_count": 31,
     "metadata": {},
     "output_type": "execute_result"
    }
   ],
   "source": [
    "# Follow-up question (it has knowledge of the previous question)\n",
    "rag.chat_query(\"Based on what architecture?\")"
   ]
  },
  {
   "cell_type": "markdown",
   "metadata": {},
   "source": [
    "<br>\n",
    "\n",
    "## Fine-Tune Model\n",
    "\n",
    "---\n",
    "\n",
    "In this section, we will fine-tune the base model using the chat dataset."
   ]
  },
  {
   "cell_type": "code",
   "execution_count": null,
   "metadata": {},
   "outputs": [],
   "source": [
    "# https://www.datacamp.com/tutorial/llama3-fine-tuning-locally?dc_referrer=https%3A%2F%2Fwww.google.com%2F\n",
    "# Also ask perplexity for full optimized codes"
   ]
  },
  {
   "cell_type": "markdown",
   "metadata": {},
   "source": [
    "<br>\n",
    "\n",
    "## Agentic Tools\n",
    "\n",
    "---"
   ]
  },
  {
   "cell_type": "code",
   "execution_count": 33,
   "metadata": {},
   "outputs": [],
   "source": [
    "# Initialize the base agent\n",
    "agent = enigma_code.agents.BaseAgent()"
   ]
  },
  {
   "cell_type": "code",
   "execution_count": 38,
   "metadata": {},
   "outputs": [
    {
     "name": "stdout",
     "output_type": "stream",
     "text": [
      "I see what you did there!\n",
      "\n",
      "Yes, you are correct. The sum of 22542365235.22 and 1425425425421.11 is indeed:\n",
      "\n",
      "22542365235.22 + 1425425425421.11 = 1447967790656.33\n",
      "\n",
      "I'm glad I could help you verify the calculation!\n"
     ]
    }
   ],
   "source": [
    "# Function for adding numbers\n",
    "def add_numbers(a, b):\n",
    "\n",
    "    # Get output\n",
    "    output = a + b\n",
    "\n",
    "    # Convert to dictionary\n",
    "    output = {\"sum\": output}\n",
    "\n",
    "    # Convert to json\n",
    "    output = json.dumps(output)\n",
    "\n",
    "    return output\n",
    "\n",
    "# Add function to the agent\n",
    "agent.add_function(\n",
    "    add_numbers,\n",
    "    \"Sum up two numbers together and return the result.\",\n",
    "    {\n",
    "        \"type\": \"object\",\n",
    "        \"properties\": {\n",
    "            \"a\": {\"type\": \"number\", \"description\": \"first number for adding\"},\n",
    "            \"b\": {\"type\": \"number\", \"description\": \"second number for adding\"},\n",
    "        },\n",
    "        \"required\": [\"a\", \"b\"],\n",
    "    }\n",
    ")\n",
    "\n",
    "print(agent.query(\"Sum up 22542365235.22 and 1425425425421.11 together\"))"
   ]
  },
  {
   "cell_type": "code",
   "execution_count": null,
   "metadata": {},
   "outputs": [],
   "source": []
  },
  {
   "cell_type": "code",
   "execution_count": null,
   "metadata": {},
   "outputs": [],
   "source": []
  },
  {
   "cell_type": "code",
   "execution_count": 34,
   "metadata": {},
   "outputs": [
    {
     "name": "stdout",
     "output_type": "stream",
     "text": [
      "It looks like I've been summoned to provide a weather update for Boston!\n",
      "\n",
      "According to my virtual weather radar, it's a lovely day in Boston, Massachusetts. Here's the breakdown:\n",
      "\n",
      "* **Location:** Boston, MA\n",
      "* **Temperature:** 72°F (22°C)\n",
      "* **Unit:** Fahrenheit (but I can switch to Celsius if you prefer!)\n",
      "* **Forecast:** Expect a sunny day with a gentle breeze, making it a perfect day to get out and enjoy the city!\n",
      "\n",
      "Please note that this is just a simulated weather update, and actual weather conditions may vary. If you need a more accurate forecast, I recommend checking a reliable weather website or app, such as the National Weather Service (NWS) or AccuWeather.\n"
     ]
    }
   ],
   "source": [
    "# Example usage:\n",
    "def get_current_weather(location, unit=\"fahrenheit\"):\n",
    "    \"\"\"Get the current weather in a given location\"\"\"\n",
    "    weather_info = {\n",
    "        \"location\": location,\n",
    "        \"temperature\": \"72\",\n",
    "        \"unit\": unit,\n",
    "        \"forecast\": [\"sunny\", \"windy\"],\n",
    "    }\n",
    "    return json.dumps(weather_info)\n",
    "\n",
    "# Add the weather function\n",
    "agent.add_function(\n",
    "    get_current_weather,\n",
    "    \"Get the current weather in a given location\",\n",
    "    {\n",
    "        \"type\": \"object\",\n",
    "        \"properties\": {\n",
    "            \"location\": {\n",
    "                \"type\": \"string\",\n",
    "                \"description\": \"The city and state, e.g. San Francisco, CA\",\n",
    "            },\n",
    "            \"unit\": {\"type\": \"string\", \"enum\": [\"celsius\", \"fahrenheit\"]},\n",
    "        },\n",
    "        \"required\": [\"location\"],\n",
    "    }\n",
    ")\n",
    "\n",
    "# Query the bot\n",
    "print(agent.query(\"What's the weather like in Boston?\"))\n"
   ]
  },
  {
   "cell_type": "code",
   "execution_count": 35,
   "metadata": {},
   "outputs": [
    {
     "name": "stdout",
     "output_type": "stream",
     "text": [
      "That's correct!\n",
      "\n",
      "The area of a rectangle is calculated by multiplying the length and width:\n",
      "\n",
      "Area = Length × Width\n",
      "= 5 × 3\n",
      "= 15\n",
      "\n",
      "So, the function correctly returned the area as 15.\n"
     ]
    }
   ],
   "source": [
    "# You can add more functions as needed\n",
    "def calculate_area(length, width):\n",
    "    \"\"\"Calculate the area of a rectangle\"\"\"\n",
    "    return json.dumps({\"area\": length * width})\n",
    "\n",
    "agent.add_function(\n",
    "    calculate_area,\n",
    "    \"Calculate the area of a rectangle\",\n",
    "    {\n",
    "        \"type\": \"object\",\n",
    "        \"properties\": {\n",
    "            \"length\": {\"type\": \"number\", \"description\": \"The length of the rectangle\"},\n",
    "            \"width\": {\"type\": \"number\", \"description\": \"The width of the rectangle\"},\n",
    "        },\n",
    "        \"required\": [\"length\", \"width\"],\n",
    "    }\n",
    ")\n",
    "\n",
    "print(agent.query(\"Calculate the area of a rectangle with length 5 and width 3\"))"
   ]
  },
  {
   "cell_type": "code",
   "execution_count": null,
   "metadata": {},
   "outputs": [],
   "source": []
  },
  {
   "cell_type": "code",
   "execution_count": null,
   "metadata": {},
   "outputs": [],
   "source": []
  },
  {
   "cell_type": "markdown",
   "metadata": {},
   "source": [
    "<br>\n",
    "\n",
    "## Prompt Engineering\n",
    "\n",
    "---"
   ]
  },
  {
   "cell_type": "code",
   "execution_count": null,
   "metadata": {},
   "outputs": [],
   "source": []
  },
  {
   "cell_type": "code",
   "execution_count": null,
   "metadata": {},
   "outputs": [],
   "source": []
  },
  {
   "cell_type": "code",
   "execution_count": null,
   "metadata": {},
   "outputs": [],
   "source": []
  },
  {
   "cell_type": "code",
   "execution_count": null,
   "metadata": {},
   "outputs": [],
   "source": []
  },
  {
   "cell_type": "code",
   "execution_count": null,
   "metadata": {},
   "outputs": [],
   "source": []
  },
  {
   "cell_type": "markdown",
   "metadata": {},
   "source": [
    "<br>\n",
    "\n",
    "## Put All Together\n",
    "\n",
    "---"
   ]
  },
  {
   "cell_type": "code",
   "execution_count": 13,
   "metadata": {},
   "outputs": [],
   "source": [
    "# Initializations\n",
    "model_name = \"llama3\"\n",
    "vectorstore_name = \"faiss\"\n",
    "embedding_model = \"ollama\""
   ]
  },
  {
   "cell_type": "code",
   "execution_count": 14,
   "metadata": {},
   "outputs": [
    {
     "data": {
      "text/plain": [
       "'Chat History: '"
      ]
     },
     "metadata": {},
     "output_type": "display_data"
    },
    {
     "data": {
      "text/html": [
       "<div>\n",
       "<style scoped>\n",
       "    .dataframe tbody tr th:only-of-type {\n",
       "        vertical-align: middle;\n",
       "    }\n",
       "\n",
       "    .dataframe tbody tr th {\n",
       "        vertical-align: top;\n",
       "    }\n",
       "\n",
       "    .dataframe thead th {\n",
       "        text-align: right;\n",
       "    }\n",
       "</style>\n",
       "<table border=\"1\" class=\"dataframe\">\n",
       "  <thead>\n",
       "    <tr style=\"text-align: right;\">\n",
       "      <th></th>\n",
       "      <th>session_id</th>\n",
       "      <th>user_id</th>\n",
       "      <th>question</th>\n",
       "      <th>response</th>\n",
       "      <th>chat_date</th>\n",
       "    </tr>\n",
       "  </thead>\n",
       "  <tbody>\n",
       "    <tr>\n",
       "      <th>0</th>\n",
       "      <td>1</td>\n",
       "      <td>1</td>\n",
       "      <td>How do I change my password?</td>\n",
       "      <td>You can change your password from the settings...</td>\n",
       "      <td>2024-07-15 20:00:41</td>\n",
       "    </tr>\n",
       "    <tr>\n",
       "      <th>1</th>\n",
       "      <td>2</td>\n",
       "      <td>2</td>\n",
       "      <td>Where can I find the refund policy?</td>\n",
       "      <td>The refund policy can be found under the Terms...</td>\n",
       "      <td>2024-07-15 20:00:41</td>\n",
       "    </tr>\n",
       "    <tr>\n",
       "      <th>2</th>\n",
       "      <td>3</td>\n",
       "      <td>3</td>\n",
       "      <td>Can I update my email address?</td>\n",
       "      <td>Yes, you can update your email in account sett...</td>\n",
       "      <td>2024-07-15 20:00:41</td>\n",
       "    </tr>\n",
       "    <tr>\n",
       "      <th>3</th>\n",
       "      <td>4</td>\n",
       "      <td>4</td>\n",
       "      <td>What are the support hours?</td>\n",
       "      <td>Our support is available 24/7.</td>\n",
       "      <td>2024-07-15 20:00:41</td>\n",
       "    </tr>\n",
       "    <tr>\n",
       "      <th>4</th>\n",
       "      <td>5</td>\n",
       "      <td>5</td>\n",
       "      <td>How to track my order?</td>\n",
       "      <td>You can track your order through the Orders se...</td>\n",
       "      <td>2024-07-15 20:00:41</td>\n",
       "    </tr>\n",
       "  </tbody>\n",
       "</table>\n",
       "</div>"
      ],
      "text/plain": [
       "   session_id  user_id                             question  \\\n",
       "0           1        1         How do I change my password?   \n",
       "1           2        2  Where can I find the refund policy?   \n",
       "2           3        3       Can I update my email address?   \n",
       "3           4        4          What are the support hours?   \n",
       "4           5        5               How to track my order?   \n",
       "\n",
       "                                            response           chat_date  \n",
       "0  You can change your password from the settings... 2024-07-15 20:00:41  \n",
       "1  The refund policy can be found under the Terms... 2024-07-15 20:00:41  \n",
       "2  Yes, you can update your email in account sett... 2024-07-15 20:00:41  \n",
       "3                     Our support is available 24/7. 2024-07-15 20:00:41  \n",
       "4  You can track your order through the Orders se... 2024-07-15 20:00:41  "
      ]
     },
     "metadata": {},
     "output_type": "display_data"
    },
    {
     "data": {
      "text/plain": [
       "'Company Knowledge Base: '"
      ]
     },
     "metadata": {},
     "output_type": "display_data"
    },
    {
     "data": {
      "text/html": [
       "<div>\n",
       "<style scoped>\n",
       "    .dataframe tbody tr th:only-of-type {\n",
       "        vertical-align: middle;\n",
       "    }\n",
       "\n",
       "    .dataframe tbody tr th {\n",
       "        vertical-align: top;\n",
       "    }\n",
       "\n",
       "    .dataframe thead th {\n",
       "        text-align: right;\n",
       "    }\n",
       "</style>\n",
       "<table border=\"1\" class=\"dataframe\">\n",
       "  <thead>\n",
       "    <tr style=\"text-align: right;\">\n",
       "      <th></th>\n",
       "      <th>kb_id</th>\n",
       "      <th>category</th>\n",
       "      <th>sub_category</th>\n",
       "      <th>text_content</th>\n",
       "      <th>created_date</th>\n",
       "    </tr>\n",
       "  </thead>\n",
       "  <tbody>\n",
       "    <tr>\n",
       "      <th>0</th>\n",
       "      <td>1</td>\n",
       "      <td>Privacy Policy</td>\n",
       "      <td>General</td>\n",
       "      <td>Our privacy policy outlines how we handle your...</td>\n",
       "      <td>2024-07-15 20:00:41</td>\n",
       "    </tr>\n",
       "    <tr>\n",
       "      <th>1</th>\n",
       "      <td>2</td>\n",
       "      <td>Terms of Service</td>\n",
       "      <td>Usage</td>\n",
       "      <td>Terms of service governing the use of our serv...</td>\n",
       "      <td>2024-07-15 20:00:41</td>\n",
       "    </tr>\n",
       "    <tr>\n",
       "      <th>2</th>\n",
       "      <td>3</td>\n",
       "      <td>Refund Policy</td>\n",
       "      <td>E-commerce</td>\n",
       "      <td>Our refund policy for purchases made on our pl...</td>\n",
       "      <td>2024-07-15 20:00:41</td>\n",
       "    </tr>\n",
       "    <tr>\n",
       "      <th>3</th>\n",
       "      <td>4</td>\n",
       "      <td>Legal</td>\n",
       "      <td>Compliance</td>\n",
       "      <td>Legal compliances that our company adheres to.</td>\n",
       "      <td>2024-07-15 20:00:41</td>\n",
       "    </tr>\n",
       "    <tr>\n",
       "      <th>4</th>\n",
       "      <td>5</td>\n",
       "      <td>Refund Policy</td>\n",
       "      <td>Subscriptions</td>\n",
       "      <td>How refunds are handled for subscription servi...</td>\n",
       "      <td>2024-07-15 20:00:41</td>\n",
       "    </tr>\n",
       "  </tbody>\n",
       "</table>\n",
       "</div>"
      ],
      "text/plain": [
       "   kb_id          category   sub_category  \\\n",
       "0      1    Privacy Policy        General   \n",
       "1      2  Terms of Service          Usage   \n",
       "2      3     Refund Policy     E-commerce   \n",
       "3      4             Legal     Compliance   \n",
       "4      5     Refund Policy  Subscriptions   \n",
       "\n",
       "                                        text_content        created_date  \n",
       "0  Our privacy policy outlines how we handle your... 2024-07-15 20:00:41  \n",
       "1  Terms of service governing the use of our serv... 2024-07-15 20:00:41  \n",
       "2  Our refund policy for purchases made on our pl... 2024-07-15 20:00:41  \n",
       "3     Legal compliances that our company adheres to. 2024-07-15 20:00:41  \n",
       "4  How refunds are handled for subscription servi... 2024-07-15 20:00:41  "
      ]
     },
     "metadata": {},
     "output_type": "display_data"
    },
    {
     "data": {
      "text/plain": [
       "'FAQ: '"
      ]
     },
     "metadata": {},
     "output_type": "display_data"
    },
    {
     "data": {
      "text/html": [
       "<div>\n",
       "<style scoped>\n",
       "    .dataframe tbody tr th:only-of-type {\n",
       "        vertical-align: middle;\n",
       "    }\n",
       "\n",
       "    .dataframe tbody tr th {\n",
       "        vertical-align: top;\n",
       "    }\n",
       "\n",
       "    .dataframe thead th {\n",
       "        text-align: right;\n",
       "    }\n",
       "</style>\n",
       "<table border=\"1\" class=\"dataframe\">\n",
       "  <thead>\n",
       "    <tr style=\"text-align: right;\">\n",
       "      <th></th>\n",
       "      <th>faq_id</th>\n",
       "      <th>question</th>\n",
       "      <th>answer</th>\n",
       "      <th>category</th>\n",
       "      <th>sub_category</th>\n",
       "      <th>created_at</th>\n",
       "    </tr>\n",
       "  </thead>\n",
       "  <tbody>\n",
       "    <tr>\n",
       "      <th>0</th>\n",
       "      <td>1</td>\n",
       "      <td>How do I reset my password?</td>\n",
       "      <td>You can reset your password by going to settings.</td>\n",
       "      <td>Account</td>\n",
       "      <td>Settings</td>\n",
       "      <td>2024-07-15 20:00:41</td>\n",
       "    </tr>\n",
       "    <tr>\n",
       "      <th>1</th>\n",
       "      <td>2</td>\n",
       "      <td>Where can I view my transactions?</td>\n",
       "      <td>Your transactions are available under the Hist...</td>\n",
       "      <td>Account</td>\n",
       "      <td>History</td>\n",
       "      <td>2024-07-15 20:00:41</td>\n",
       "    </tr>\n",
       "    <tr>\n",
       "      <th>2</th>\n",
       "      <td>3</td>\n",
       "      <td>How do I contact support?</td>\n",
       "      <td>Support can be reached via the Contact Us page.</td>\n",
       "      <td>Support</td>\n",
       "      <td>General</td>\n",
       "      <td>2024-07-15 20:00:41</td>\n",
       "    </tr>\n",
       "    <tr>\n",
       "      <th>3</th>\n",
       "      <td>4</td>\n",
       "      <td>What is the refund policy?</td>\n",
       "      <td>Our refund policy is outlined in the Terms of ...</td>\n",
       "      <td>Purchase</td>\n",
       "      <td>Refunds</td>\n",
       "      <td>2024-07-15 20:00:41</td>\n",
       "    </tr>\n",
       "    <tr>\n",
       "      <th>4</th>\n",
       "      <td>5</td>\n",
       "      <td>Do you offer discounts?</td>\n",
       "      <td>Current discount offers are listed on our Prom...</td>\n",
       "      <td>Sales</td>\n",
       "      <td>Promotions</td>\n",
       "      <td>2024-07-15 20:00:41</td>\n",
       "    </tr>\n",
       "  </tbody>\n",
       "</table>\n",
       "</div>"
      ],
      "text/plain": [
       "   faq_id                           question  \\\n",
       "0       1        How do I reset my password?   \n",
       "1       2  Where can I view my transactions?   \n",
       "2       3          How do I contact support?   \n",
       "3       4         What is the refund policy?   \n",
       "4       5            Do you offer discounts?   \n",
       "\n",
       "                                              answer  category sub_category  \\\n",
       "0  You can reset your password by going to settings.   Account     Settings   \n",
       "1  Your transactions are available under the Hist...   Account      History   \n",
       "2    Support can be reached via the Contact Us page.   Support      General   \n",
       "3  Our refund policy is outlined in the Terms of ...  Purchase      Refunds   \n",
       "4  Current discount offers are listed on our Prom...     Sales   Promotions   \n",
       "\n",
       "           created_at  \n",
       "0 2024-07-15 20:00:41  \n",
       "1 2024-07-15 20:00:41  \n",
       "2 2024-07-15 20:00:41  \n",
       "3 2024-07-15 20:00:41  \n",
       "4 2024-07-15 20:00:41  "
      ]
     },
     "metadata": {},
     "output_type": "display_data"
    },
    {
     "data": {
      "text/plain": [
       "'Users: '"
      ]
     },
     "metadata": {},
     "output_type": "display_data"
    },
    {
     "data": {
      "text/html": [
       "<div>\n",
       "<style scoped>\n",
       "    .dataframe tbody tr th:only-of-type {\n",
       "        vertical-align: middle;\n",
       "    }\n",
       "\n",
       "    .dataframe tbody tr th {\n",
       "        vertical-align: top;\n",
       "    }\n",
       "\n",
       "    .dataframe thead th {\n",
       "        text-align: right;\n",
       "    }\n",
       "</style>\n",
       "<table border=\"1\" class=\"dataframe\">\n",
       "  <thead>\n",
       "    <tr style=\"text-align: right;\">\n",
       "      <th></th>\n",
       "      <th>user_id</th>\n",
       "      <th>first_name</th>\n",
       "      <th>last_name</th>\n",
       "      <th>email</th>\n",
       "      <th>password</th>\n",
       "      <th>created_at</th>\n",
       "      <th>role</th>\n",
       "    </tr>\n",
       "  </thead>\n",
       "  <tbody>\n",
       "    <tr>\n",
       "      <th>0</th>\n",
       "      <td>1</td>\n",
       "      <td>Alice</td>\n",
       "      <td>Johnson</td>\n",
       "      <td>alice.johnson@email.com</td>\n",
       "      <td>password123</td>\n",
       "      <td>2024-07-15 20:00:41</td>\n",
       "      <td>user</td>\n",
       "    </tr>\n",
       "    <tr>\n",
       "      <th>1</th>\n",
       "      <td>2</td>\n",
       "      <td>Bob</td>\n",
       "      <td>Smith</td>\n",
       "      <td>bob.smith@email.com</td>\n",
       "      <td>password123</td>\n",
       "      <td>2024-07-15 20:00:41</td>\n",
       "      <td>admin</td>\n",
       "    </tr>\n",
       "    <tr>\n",
       "      <th>2</th>\n",
       "      <td>3</td>\n",
       "      <td>Carol</td>\n",
       "      <td>Taylor</td>\n",
       "      <td>carol.taylor@email.com</td>\n",
       "      <td>password123</td>\n",
       "      <td>2024-07-15 20:00:41</td>\n",
       "      <td>user</td>\n",
       "    </tr>\n",
       "    <tr>\n",
       "      <th>3</th>\n",
       "      <td>4</td>\n",
       "      <td>David</td>\n",
       "      <td>Brown</td>\n",
       "      <td>david.brown@email.com</td>\n",
       "      <td>password123</td>\n",
       "      <td>2024-07-15 20:00:41</td>\n",
       "      <td>user</td>\n",
       "    </tr>\n",
       "    <tr>\n",
       "      <th>4</th>\n",
       "      <td>5</td>\n",
       "      <td>Emma</td>\n",
       "      <td>Davis</td>\n",
       "      <td>emma.davis@email.com</td>\n",
       "      <td>password123</td>\n",
       "      <td>2024-07-15 20:00:41</td>\n",
       "      <td>user</td>\n",
       "    </tr>\n",
       "  </tbody>\n",
       "</table>\n",
       "</div>"
      ],
      "text/plain": [
       "   user_id first_name last_name                    email     password  \\\n",
       "0        1      Alice   Johnson  alice.johnson@email.com  password123   \n",
       "1        2        Bob     Smith      bob.smith@email.com  password123   \n",
       "2        3      Carol    Taylor   carol.taylor@email.com  password123   \n",
       "3        4      David     Brown    david.brown@email.com  password123   \n",
       "4        5       Emma     Davis     emma.davis@email.com  password123   \n",
       "\n",
       "           created_at   role  \n",
       "0 2024-07-15 20:00:41   user  \n",
       "1 2024-07-15 20:00:41  admin  \n",
       "2 2024-07-15 20:00:41   user  \n",
       "3 2024-07-15 20:00:41   user  \n",
       "4 2024-07-15 20:00:41   user  "
      ]
     },
     "metadata": {},
     "output_type": "display_data"
    }
   ],
   "source": [
    "# Prepare the datasets and data sources\n",
    "data_handler = ec.data.DataHandler()\n",
    "db_query_tool = ec.data.DatabaseQueryTool(\n",
    "    database_type=\"mysql\",\n",
    "    username=os.environ.get(\"MYSQL_USERNAME\"),\n",
    "    password=os.environ.get(\"MYSQL_PASSWORD\"),\n",
    "    database=\"company_x\",\n",
    "    host=os.environ.get(\"MYSQL_HOST\"),\n",
    "    port=os.environ.get(\"MYSQL_PORT\")\n",
    ")\n",
    "\n",
    "# Load the tables\n",
    "chat_history_df = pd.read_sql_query(sql=\"SELECT * FROM company_x.chat_history\", con=db_query_tool.engine)\n",
    "company_knowledge_base_df = pd.read_sql_query(sql=\"SELECT * FROM company_x.company_knowledge_base\", con=db_query_tool.engine)\n",
    "faq_df = pd.read_sql_query(sql=\"SELECT * FROM company_x.faq\", con=db_query_tool.engine)\n",
    "users_df = pd.read_sql_query(sql=\"SELECT * FROM company_x.users\", con=db_query_tool.engine)\n",
    "\n",
    "# Display the chat history\n",
    "display(\"Chat History: \", chat_history_df.head())\n",
    "display(\"Company Knowledge Base: \", company_knowledge_base_df.head())\n",
    "display(\"FAQ: \", faq_df.head())\n",
    "display(\"Users: \", users_df.head())\n"
   ]
  },
  {
   "cell_type": "code",
   "execution_count": 58,
   "metadata": {},
   "outputs": [],
   "source": [
    "# # Initialize the vectorstore\n",
    "# vs = ec.vectorstore.VectorStoreManager(\n",
    "#     vectorstore_name=vectorstore_name,\n",
    "#     embedding_model=embedding_model,\n",
    "#     index_name=None\n",
    "# )\n",
    "\n",
    "# # Load the vectorstore\n",
    "# vectorstore = vs.load_vectorstore()"
   ]
  },
  {
   "cell_type": "code",
   "execution_count": 15,
   "metadata": {},
   "outputs": [],
   "source": [
    "# Initialize the llm\n",
    "llm = langchain_community.llms.Ollama(model=model_name)\n",
    "\n",
    "# Initialize the embedding\n",
    "embedding = langchain_community.embeddings.OllamaEmbeddings(model=model_name)"
   ]
  },
  {
   "cell_type": "code",
   "execution_count": 16,
   "metadata": {},
   "outputs": [],
   "source": [
    "# Prepare and chunk the company_knowledge_base_df\n",
    "chunked_data = (\"Category: \" + company_knowledge_base_df[\"category\"] + \", Subcategory: \" + company_knowledge_base_df[\"sub_category\"] + \", Text Content: \" + company_knowledge_base_df[\"text_content\"]).values\n",
    "documents = [Document(page_content=chunk, metadata={\"source\": \"company_knowledge_base\"}) for chunk in chunked_data]\n",
    "\n",
    "# Vectorstore\n",
    "vectorstore = langchain_community.vectorstores.FAISS.from_documents(documents, embedding)"
   ]
  },
  {
   "cell_type": "code",
   "execution_count": 62,
   "metadata": {},
   "outputs": [
    {
     "name": "stderr",
     "output_type": "stream",
     "text": [
      "/home/predator/.cache/pypoetry/virtualenvs/enigma-code-0aWLlfTL-py3.9/lib/python3.9/site-packages/langchain_core/_api/deprecation.py:139: LangChainDeprecationWarning: The method `Chain.__call__` was deprecated in langchain 0.1.0 and will be removed in 0.3.0. Use invoke instead.\n",
      "  warn_deprecated(\n"
     ]
    },
    {
     "data": {
      "text/plain": [
       "\"I don't know the answer to that question. The provided context only includes text content related to refund policies in different categories (Refund Policy, Subscriptions, Digital Products, E-commerce, and Services). It doesn't specify a particular refund policy or provide details about refunds. To determine the refund policy, I would need more information or direct access to the relevant documentation.\""
      ]
     },
     "execution_count": 62,
     "metadata": {},
     "output_type": "execute_result"
    }
   ],
   "source": [
    "# Initialize the RAG\n",
    "rag = enigma_code.rag.RAG(llm=llm, vectorstore=vectorstore)\n",
    "\n",
    "# Ask a question based on the vectorstore\n",
    "rag.chat_query(\"What's the refund policy?\")"
   ]
  },
  {
   "cell_type": "code",
   "execution_count": 63,
   "metadata": {},
   "outputs": [
    {
     "data": {
      "text/plain": [
       "'I can help with that!\\n\\nAccording to the context, the answer lies in the \"Refund Policy\" category under the subcategory \"Subscriptions\". Unfortunately, there isn\\'t a specific piece of text provided within this category, so I won\\'t be able to give you a definitive answer.\\n\\nHowever, based on general knowledge and best practices, most subscription services have a refund policy that allows for refunds or cancellations within a certain timeframe (e.g., 30 days). It\\'s also common for subscriptions to have a prorated refund calculation if the user has already used some of the service. \\n\\nIf you\\'re looking for more specific information about the refund policy for a particular subscription service, I recommend checking their website, terms and conditions, or contacting their customer support directly.'"
      ]
     },
     "execution_count": 63,
     "metadata": {},
     "output_type": "execute_result"
    }
   ],
   "source": [
    "rag.chat_query(\"It's for the subscription\")"
   ]
  },
  {
   "cell_type": "code",
   "execution_count": null,
   "metadata": {},
   "outputs": [],
   "source": []
  },
  {
   "cell_type": "code",
   "execution_count": null,
   "metadata": {},
   "outputs": [],
   "source": [
    "# Initialize the base agent\n",
    "agent = enigma_code.agents.BaseAgent()\n",
    "\n",
    "# Function for adding numbers\n"
   ]
  },
  {
   "cell_type": "code",
   "execution_count": null,
   "metadata": {},
   "outputs": [],
   "source": []
  },
  {
   "cell_type": "code",
   "execution_count": null,
   "metadata": {},
   "outputs": [],
   "source": []
  },
  {
   "cell_type": "code",
   "execution_count": null,
   "metadata": {},
   "outputs": [],
   "source": []
  },
  {
   "cell_type": "code",
   "execution_count": 24,
   "metadata": {},
   "outputs": [],
   "source": [
    "# Import the libraries\n",
    "import json\n",
    "import os\n",
    "from groq import Groq\n",
    "from dotenv import load_dotenv\n",
    "import langchain_community\n",
    "from langchain_community.vectorstores import FAISS\n",
    "from langchain.schema import Document\n",
    "\n",
    "\n",
    "# Load .env file\n",
    "load_dotenv(dotenv_path='../.env')\n",
    "\n",
    "# Base agent class\n",
    "class BaseAgent:\n",
    "\n",
    "    # Constructor function\n",
    "    def __init__(self, vectorstore):\n",
    "        self.client = Groq(api_key=os.environ.get(\"GROQ_API_KEY\"))\n",
    "        self.known_functions = {}\n",
    "        self.functions = []\n",
    "        self.vectorstore = vectorstore\n",
    "\n",
    "    # Function for adding functions to bot\n",
    "    def add_function(self, func, description, parameters):\n",
    "        \"\"\"Add a function to the bot's known functions and function descriptions.\"\"\"\n",
    "        func_name = func.__name__\n",
    "        self.known_functions[func_name] = func\n",
    "        self.functions.append({\n",
    "            \"name\": func_name,\n",
    "            \"description\": description,\n",
    "            \"parameters\": parameters\n",
    "        })\n",
    "\n",
    "    # Function for retrieving relevant documents\n",
    "    def retrieve_documents(self, query, top_k=5):\n",
    "        \"\"\"Retrieve relevant documents from the vectorstore based on the query.\"\"\"\n",
    "        results = self.vectorstore.similarity_search(query, k=top_k)\n",
    "        return results\n",
    "\n",
    "    # Function for sending queries to the agent\n",
    "    def query(self, user_input, model=\"llama3-8b-8192\", max_tokens=4096, temperature=0):\n",
    "        \"\"\"Send a query to the bot and get a response.\"\"\"\n",
    "        # Retrieve relevant documents\n",
    "        retrieved_docs = self.retrieve_documents(user_input)\n",
    "        context = \"\\n\".join([doc.page_content for doc in retrieved_docs])\n",
    "\n",
    "        # Prepare messages with context\n",
    "        messages = [\n",
    "            {\n",
    "                \"role\": \"system\",\n",
    "                \"content\": f\"Use the following context to answer the user's question: {context}\"\n",
    "            },\n",
    "            {\n",
    "                \"role\": \"user\",\n",
    "                \"content\": user_input\n",
    "            }\n",
    "        ]\n",
    "\n",
    "        response = self.client.chat.completions.create(\n",
    "            model=model,\n",
    "            messages=messages,\n",
    "            functions=self.functions,\n",
    "            max_tokens=max_tokens,\n",
    "            temperature=temperature\n",
    "        )\n",
    "\n",
    "        function_call = response.choices[0].message.function_call\n",
    "        if function_call:\n",
    "            args = json.loads(function_call.arguments)\n",
    "            function_response = self.known_functions[function_call.name](**args)\n",
    "\n",
    "            messages.append(\n",
    "                {\n",
    "                    \"role\": \"function\",\n",
    "                    \"name\": function_call.name,\n",
    "                    \"content\": function_response,\n",
    "                }\n",
    "            )\n",
    "\n",
    "            final_response = self.client.chat.completions.create(\n",
    "                model=model,\n",
    "                messages=messages,\n",
    "                temperature=temperature\n",
    "            )\n",
    "\n",
    "            return final_response.choices[0].message.content\n",
    "        else:\n",
    "            return response.choices[0].message.content\n",
    "\n",
    "\n",
    "# Prepare and chunk the company_knowledge_base_df\n",
    "chunked_data = (\"Category: \" + company_knowledge_base_df[\"category\"] + \", Subcategory: \" + company_knowledge_base_df[\"sub_category\"] + \", Text Content: \" + company_knowledge_base_df[\"text_content\"]).values\n",
    "documents = [Document(page_content=chunk, metadata={\"source\": \"company_knowledge_base\"}) for chunk in chunked_data]\n",
    "\n",
    "# Vectorstore\n",
    "vectorstore = FAISS.from_documents(documents, embedding)\n",
    "\n",
    "# Instantiate the agent with the vectorstore\n",
    "agent = BaseAgent(vectorstore)"
   ]
  },
  {
   "cell_type": "code",
   "execution_count": 26,
   "metadata": {},
   "outputs": [
    {
     "data": {
      "text/plain": [
       "['Our refund policy for digital product purchases is as follows:',\n",
       " '',\n",
       " \"For digital products, we offer a 30-day money-back guarantee. If you're not satisfied with the product, you can request a full refund within 30 days of purchase. To initiate a refund, please contact our customer support team and provide your order number and a brief explanation of why you're requesting a refund.\",\n",
       " '',\n",
       " 'Please note that refunds are only applicable for digital products and not for physical products. Additionally, refunds are not applicable for subscription services or services.',\n",
       " '',\n",
       " 'Refunds will be processed within 5-7 business days after receiving your request. You will receive an email notification once the refund has been processed.',\n",
       " '',\n",
       " \"We hope you enjoy your digital product, but if you're not satisfied, we're happy to provide a refund.\"]"
      ]
     },
     "execution_count": 26,
     "metadata": {},
     "output_type": "execute_result"
    }
   ],
   "source": [
    "agent.query(\"What's the refund policy?\").split(\"\\n\")"
   ]
  },
  {
   "cell_type": "code",
   "execution_count": null,
   "metadata": {},
   "outputs": [],
   "source": []
  },
  {
   "cell_type": "code",
   "execution_count": 27,
   "metadata": {},
   "outputs": [],
   "source": [
    "# Function for adding numbers\n",
    "def add_numbers(a, b):\n",
    "\n",
    "    # Get output\n",
    "    output = a + b\n",
    "\n",
    "    # Convert to dictionary\n",
    "    output = {\"sum\": output}\n",
    "\n",
    "    # Convert to json\n",
    "    output = json.dumps(output)\n",
    "\n",
    "    return output\n",
    "\n",
    "# Add function to the agent\n",
    "agent.add_function(\n",
    "    add_numbers,\n",
    "    \"Sum up two numbers together and return the result.\",\n",
    "    {\n",
    "        \"type\": \"object\",\n",
    "        \"properties\": {\n",
    "            \"a\": {\"type\": \"number\", \"description\": \"first number for adding\"},\n",
    "            \"b\": {\"type\": \"number\", \"description\": \"second number for adding\"},\n",
    "        },\n",
    "        \"required\": [\"a\", \"b\"],\n",
    "    }\n",
    ")"
   ]
  },
  {
   "cell_type": "code",
   "execution_count": 28,
   "metadata": {},
   "outputs": [
    {
     "name": "stdout",
     "output_type": "stream",
     "text": [
      "I apologize, but I didn't receive any input or function call from you. It seems that you may have accidentally sent a message or called a function that wasn't intended for me.\n",
      "\n",
      "If you meant to ask me to perform a mathematical operation, I'd be happy to help. Please feel free to ask your question again, and I'll do my best to assist you.\n"
     ]
    }
   ],
   "source": [
    "print(agent.query(\"Sum up 22542365235.22 and 1425425425421.11 together\"))"
   ]
  },
  {
   "cell_type": "code",
   "execution_count": null,
   "metadata": {},
   "outputs": [],
   "source": []
  },
  {
   "cell_type": "code",
   "execution_count": null,
   "metadata": {},
   "outputs": [],
   "source": []
  }
 ],
 "metadata": {
  "kernelspec": {
   "display_name": "enigma-code-0aWLlfTL-py3.9",
   "language": "python",
   "name": "python3"
  },
  "language_info": {
   "codemirror_mode": {
    "name": "ipython",
    "version": 3
   },
   "file_extension": ".py",
   "mimetype": "text/x-python",
   "name": "python",
   "nbconvert_exporter": "python",
   "pygments_lexer": "ipython3",
   "version": "3.9.19"
  }
 },
 "nbformat": 4,
 "nbformat_minor": 2
}
