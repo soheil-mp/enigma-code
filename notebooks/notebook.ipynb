{
 "cells": [
  {
   "cell_type": "markdown",
   "metadata": {},
   "source": [
    "<br>\n",
    "\n",
    "## Initial Setup\n",
    "\n",
    "---"
   ]
  },
  {
   "cell_type": "code",
   "execution_count": 1,
   "metadata": {},
   "outputs": [
    {
     "name": "stderr",
     "output_type": "stream",
     "text": [
      "USER_AGENT environment variable not set, consider setting it to identify your requests.\n",
      "USER_AGENT environment variable not set, consider setting it to identify your requests.\n",
      "/home/predator/.cache/pypoetry/virtualenvs/enigma-code-0aWLlfTL-py3.9/lib/python3.9/site-packages/sentence_transformers/cross_encoder/CrossEncoder.py:11: TqdmWarning: IProgress not found. Please update jupyter and ipywidgets. See https://ipywidgets.readthedocs.io/en/stable/user_install.html\n",
      "  from tqdm.autonotebook import tqdm, trange\n"
     ]
    }
   ],
   "source": [
    "# Import the libraries\n",
    "import os\n",
    "import pandas as pd\n",
    "import importlib\n",
    "import langchain\n",
    "from langchain.document_loaders import *\n",
    "from sentence_transformers import SentenceTransformer\n",
    "from langchain.schema import Document"
   ]
  },
  {
   "cell_type": "code",
   "execution_count": 2,
   "metadata": {},
   "outputs": [
    {
     "data": {
      "text/plain": [
       "'/home/predator/Desktop/code base/enigma-code'"
      ]
     },
     "execution_count": 2,
     "metadata": {},
     "output_type": "execute_result"
    }
   ],
   "source": [
    "# Change the path to root directory\n",
    "os.chdir('..') \n",
    "\n",
    "# Print the current working directory\n",
    "os.getcwd()  "
   ]
  },
  {
   "cell_type": "code",
   "execution_count": 3,
   "metadata": {},
   "outputs": [],
   "source": [
    "# Import the local modules\n",
    "import enigma_code\n",
    "import enigma_code as ec\n",
    "from enigma_code import data\n",
    "from enigma_code import vectorstore"
   ]
  },
  {
   "cell_type": "code",
   "execution_count": 4,
   "metadata": {},
   "outputs": [
    {
     "data": {
      "text/plain": [
       "<module 'enigma_code.vectorstore' from '/home/predator/Desktop/code base/enigma-code/enigma_code/vectorstore.py'>"
      ]
     },
     "execution_count": 4,
     "metadata": {},
     "output_type": "execute_result"
    }
   ],
   "source": [
    "import importlib\n",
    "\n",
    "# Assuming enigma_code was already imported as shown in the active selection\n",
    "importlib.reload(enigma_code)\n",
    "\n",
    "# If you have imported submodules or used aliases, you might need to reload those as well\n",
    "importlib.reload(ec)\n",
    "importlib.reload(data)\n",
    "importlib.reload(vectorstore)"
   ]
  },
  {
   "cell_type": "markdown",
   "metadata": {},
   "source": [
    "<br>\n",
    "\n",
    "## Load Dataset\n",
    "\n",
    "---\n",
    "\n",
    "In this section, we will load the dataset from various sources."
   ]
  },
  {
   "cell_type": "code",
   "execution_count": 5,
   "metadata": {},
   "outputs": [],
   "source": [
    "# Instantiat the data handler\n",
    "data_handler = ec.data.DataHandler()"
   ]
  },
  {
   "cell_type": "code",
   "execution_count": 6,
   "metadata": {},
   "outputs": [
    {
     "data": {
      "text/plain": [
       "[Document(metadata={'source': 'datasets/rules_and_regulations.txt'}, page_content=\"1. Guests will be charged per night.\\n2. Check-in time is 2:00 p.m. on the day of arrival and the check-out time is 12:00 p.m. on the day of departure.\\n3. If upon check-in the guest does not specify the duration of his or her stay the hotel will presume it is for one night.\\n4. Guest must show up before 2 p.m., and then the booking will be cancelled if there is no contact from guest.\\n5. Only 2 guests are allowed to stay in a room. Children older than 7 years old or the third guest must pay 500 Thai baht for extra bed.\\n6. Baby cot can be provided to a child under 2 years old upon request.\\n7. Bills must be settled by cash or valid credit card, personal cheques are not accepted.\\n8. Guests wishing to check out later than 2:00 p.m. are kindly requested to ask for permission from our reception before 12:00 p.m. (subject to room availability, otherwise it will be charged for one additional night.\\n9. Smoking is strictly not allowed in the hotel and violator is subject to a fine of 2,000 THB (Two Thousand Thai Baht).\\n10. Removing items from guest rooms or moving them to other places in the hotel is prohibited. Violator is subject to a fine of up to 5,000 THB (Five Thousand Thai baht).\\n11. When not being used, do not touch the fire extinguisher.\\n12. Inviting strangers into the guest rooms, to use the facilities and or amenities is prohibited. For security reason, joiner must register at reception before entering the room.\\n13. Hanging of any items in guest room windows that might ruin the beauty of our hotel appearance is prohibited.\\n14. Ordering and delivery of food from outside our hotel is prohibited.\\n15. Hanging of any items in guest room windows that might ruin the beauty of our hotel appearance is prohibited.\\n16. Pets may not be brought into the Hotel.\\n17. Installation of any foreign item in to guest rooms or any part of our building is prohibited.\\n18. Use of phones in guest rooms will be charged to your bill.\\n19. Guests wishing to extend their stay beyond the date given while checking in are kindly asked to inform our reception before 10:00 a.m. on the original departure date.\\n20. Extension of your stay without reservation is subject to room availability.\\n21. No guest is allowed to give up his or her room to be used by third parties even if the room has been duly paid for.\\n22. Gambling or any other behavior that is against public morals in the hallways or guest rooms is prohibited.\\n23. Any damage should be reported to our reception immediately after it becomes apparent.\\n24. The use of guest rooms or the lobby as an office is prohibited.\\n25. Bringing illegal items, exotic plants or animals is prohibited.\\n26. Durian or anything that causes bad smell is strictly not allowed in the hotel.\\n27. Guests and other individuals using the hotel services are asked to make sure their conduct should not disturb other guests. The hotel may refuse its services to individuals who violate this rule.\\n28. Guests are expected to lock their rooms properly to prevent access of third parties. Upon leaving their rooms guests must close and lock the doors, windows and anti-burglary rolling shutters. The Management will not in any way whatsoever be responsible for any loss / or damage to the Guest's belongings or any other property from either the hotel room or the locker or any other part of the hotel for any cause whatsoever including theft of pilferage.\\n29. Guests are expected to keep all the equipment and furniture in their rooms free from damage.\\n30. Guests shall be liable for any damage or loss of any equipment or furniture in the rooms up to the cost of repair or replacement.\\n31. Unwashable stains, rips or tears on linens or towels will be charged to your bill.\\n32. In case of loss or damage of key card 2,500 THB will be charged in the room bill.\\n33. Items left behind by a guest will be sent on demand by post at the guest’s expense to any address the guest may specify. If not specifically instructed the hotel will store such items for 15 days and then donate them to a charitable cause.\\n\")]"
      ]
     },
     "execution_count": 6,
     "metadata": {},
     "output_type": "execute_result"
    }
   ],
   "source": [
    "# Load a text dataset\n",
    "dataset = data_handler.load_dataset(\"datasets/rules_and_regulations.txt\")\n",
    "dataset"
   ]
  },
  {
   "cell_type": "code",
   "execution_count": 7,
   "metadata": {},
   "outputs": [
    {
     "data": {
      "text/plain": [
       "[Document(page_content='1. Guests will be charged per night.'),\n",
       " Document(page_content='2. Check-in time is 2:00 p.m. on the day of arrival and the check-out time is 12:00 p.m. on the day of departure.'),\n",
       " Document(page_content='3. If upon check-in the guest does not specify the duration of his or her stay the hotel will presume it is for one night.'),\n",
       " Document(page_content='4. Guest must show up before 2 p.m., and then the booking will be cancelled if there is no contact from guest.'),\n",
       " Document(page_content='5. Only 2 guests are allowed to stay in a room. Children older than 7 years old or the third guest must pay 500 Thai baht for extra bed.'),\n",
       " Document(page_content='6. Baby cot can be provided to a child under 2 years old upon request.'),\n",
       " Document(page_content='7. Bills must be settled by cash or valid credit card, personal cheques are not accepted.'),\n",
       " Document(page_content='8. Guests wishing to check out later than 2:00 p.m. are kindly requested to ask for permission from our reception before 12:00 p.m. (subject to room availability, otherwise it will be charged for one additional night.'),\n",
       " Document(page_content='9. Smoking is strictly not allowed in the hotel and violator is subject to a fine of 2,000 THB (Two Thousand Thai Baht).'),\n",
       " Document(page_content='10. Removing items from guest rooms or moving them to other places in the hotel is prohibited. Violator is subject to a fine of up to 5,000 THB (Five Thousand Thai baht).'),\n",
       " Document(page_content='11. When not being used, do not touch the fire extinguisher.'),\n",
       " Document(page_content='12. Inviting strangers into the guest rooms, to use the facilities and or amenities is prohibited. For security reason, joiner must register at reception before entering the room.'),\n",
       " Document(page_content='13. Hanging of any items in guest room windows that might ruin the beauty of our hotel appearance is prohibited.'),\n",
       " Document(page_content='14. Ordering and delivery of food from outside our hotel is prohibited.'),\n",
       " Document(page_content='15. Hanging of any items in guest room windows that might ruin the beauty of our hotel appearance is prohibited.'),\n",
       " Document(page_content='16. Pets may not be brought into the Hotel.'),\n",
       " Document(page_content='17. Installation of any foreign item in to guest rooms or any part of our building is prohibited.'),\n",
       " Document(page_content='18. Use of phones in guest rooms will be charged to your bill.'),\n",
       " Document(page_content='19. Guests wishing to extend their stay beyond the date given while checking in are kindly asked to inform our reception before 10:00 a.m. on the original departure date.'),\n",
       " Document(page_content='20. Extension of your stay without reservation is subject to room availability.'),\n",
       " Document(page_content='21. No guest is allowed to give up his or her room to be used by third parties even if the room has been duly paid for.'),\n",
       " Document(page_content='22. Gambling or any other behavior that is against public morals in the hallways or guest rooms is prohibited.'),\n",
       " Document(page_content='23. Any damage should be reported to our reception immediately after it becomes apparent.'),\n",
       " Document(page_content='24. The use of guest rooms or the lobby as an office is prohibited.'),\n",
       " Document(page_content='25. Bringing illegal items, exotic plants or animals is prohibited.'),\n",
       " Document(page_content='26. Durian or anything that causes bad smell is strictly not allowed in the hotel.'),\n",
       " Document(page_content='27. Guests and other individuals using the hotel services are asked to make sure their conduct should not disturb other guests. The hotel may refuse its services to individuals who violate this rule.'),\n",
       " Document(page_content=\"28. Guests are expected to lock their rooms properly to prevent access of third parties. Upon leaving their rooms guests must close and lock the doors, windows and anti-burglary rolling shutters. The Management will not in any way whatsoever be responsible for any loss / or damage to the Guest's belongings or any other property from either the hotel room or the locker or any other part of the hotel for any cause whatsoever including theft of pilferage.\"),\n",
       " Document(page_content='29. Guests are expected to keep all the equipment and furniture in their rooms free from damage.'),\n",
       " Document(page_content='30. Guests shall be liable for any damage or loss of any equipment or furniture in the rooms up to the cost of repair or replacement.'),\n",
       " Document(page_content='31. Unwashable stains, rips or tears on linens or towels will be charged to your bill.'),\n",
       " Document(page_content='32. In case of loss or damage of key card 2,500 THB will be charged in the room bill.'),\n",
       " Document(page_content='33. Items left behind by a guest will be sent on demand by post at the guest’s expense to any address the guest may specify. If not specifically instructed the hotel will store such items for 15 days and then donate them to a charitable cause.'),\n",
       " Document(page_content='')]"
      ]
     },
     "execution_count": 7,
     "metadata": {},
     "output_type": "execute_result"
    }
   ],
   "source": [
    "# Chunk the dataset \n",
    "chunks = data_handler.chunk_dataset(documents=dataset, chunk_type=\"newline\", chunk_size=None, chunk_overlap=None)\n",
    "chunks"
   ]
  },
  {
   "cell_type": "code",
   "execution_count": 8,
   "metadata": {},
   "outputs": [
    {
     "data": {
      "text/plain": [
       "1"
      ]
     },
     "execution_count": 8,
     "metadata": {},
     "output_type": "execute_result"
    }
   ],
   "source": [
    "len(dataset)"
   ]
  },
  {
   "cell_type": "code",
   "execution_count": 10,
   "metadata": {},
   "outputs": [
    {
     "data": {
      "text/plain": [
       "34"
      ]
     },
     "execution_count": 10,
     "metadata": {},
     "output_type": "execute_result"
    }
   ],
   "source": [
    "len(chunks)"
   ]
  },
  {
   "cell_type": "code",
   "execution_count": 11,
   "metadata": {},
   "outputs": [],
   "source": [
    "# TODO: Add functions for cleaning (e.g., beutiful soup, regex, etc.)\n",
    "# TODO: Add functions for preprocessing (e.g., tokenization, lemmatization, etc.)"
   ]
  },
  {
   "cell_type": "code",
   "execution_count": 12,
   "metadata": {},
   "outputs": [],
   "source": [
    "# Instantiate the database query tool\n",
    "db_query_tool = ec.data.DatabaseQueryTool(\n",
    "    database_type=\"mysql\",\n",
    "    username=os.environ.get(\"MYSQL_USERNAME\"),\n",
    "    password=os.environ.get(\"MYSQL_PASSWORD\"),\n",
    "    host=os.environ.get(\"MYSQL_HOST\"),\n",
    ")"
   ]
  },
  {
   "cell_type": "code",
   "execution_count": null,
   "metadata": {},
   "outputs": [],
   "source": [
    "# List all available tables\n",
    "db_query_tool.run_sql_query(\"SHOW TABLES\")"
   ]
  },
  {
   "cell_type": "code",
   "execution_count": null,
   "metadata": {},
   "outputs": [],
   "source": [
    "# Load the tables\n",
    "chat_history_df = pd.read_sql_query(sql=\"SELECT * FROM company_x.chat_history\", con=db_query_tool.engine)\n",
    "company_knowledge_base_df = pd.read_sql_query(sql=\"SELECT * FROM company_x.company_knowledge_base\", con=db_query_tool.engine)\n",
    "faq_df = pd.read_sql_query(sql=\"SELECT * FROM company_x.faq\", con=db_query_tool.engine)\n",
    "users_df = pd.read_sql_query(sql=\"SELECT * FROM company_x.users\", con=db_query_tool.engine)\n",
    "\n",
    "# Display the chat history\n",
    "display(\"Chat History: \", chat_history_df.head())\n",
    "display(\"Company Knowledge Base: \", company_knowledge_base_df.head())\n",
    "display(\"FAQ: \", faq_df.head())\n",
    "display(\"Users: \", users_df.head())"
   ]
  },
  {
   "cell_type": "markdown",
   "metadata": {},
   "source": [
    "<br>\n",
    "\n",
    "## Vectorstore\n",
    "\n",
    "---\n",
    "\n",
    "Transform the knowledge base dataset into embedding vectors and save them in the vector store for use in the RAG process."
   ]
  },
  {
   "cell_type": "code",
   "execution_count": 12,
   "metadata": {},
   "outputs": [],
   "source": [
    "# Initialize VectorStoreHandler\n",
    "vs = ec.vectorstore.VectorStoreManager(\n",
    "    vectorstore_name=\"pinecone\",\n",
    "    embedding_model=\"openai\",\n",
    "    index_name=\"index-name\"\n",
    ")"
   ]
  },
  {
   "cell_type": "code",
   "execution_count": 13,
   "metadata": {},
   "outputs": [],
   "source": [
    "# Load the vectorstore\n",
    "vectorstore = vs.load_vectorstore()"
   ]
  },
  {
   "cell_type": "code",
   "execution_count": 14,
   "metadata": {},
   "outputs": [
    {
     "data": {
      "text/plain": [
       "['c1c65162-e1bc-47e0-9b03-19a5556b431d',\n",
       " 'bc78a297-ed66-480d-8b20-dc2bbbaad53f',\n",
       " '537423aa-e8c9-40e9-bee8-f63ef3736cc6']"
      ]
     },
     "execution_count": 14,
     "metadata": {},
     "output_type": "execute_result"
    }
   ],
   "source": [
    "# Add documents\n",
    "\n",
    "# Test adding documents\n",
    "documents = [\n",
    "    Document(page_content=\"This is a test document about AI.\", metadata={\"source\": \"test1\"}),\n",
    "    Document(page_content=\"Vector databases are useful for similarity search.\", metadata={\"source\": \"test2\"}),\n",
    "    Document(page_content=\"LangChain is a framework for developing applications powered by language models.\", metadata={\"source\": \"test3\"})\n",
    "]\n",
    "\n",
    "# Add documents to the vectorstore\n",
    "vectorstore.add_documents(documents=documents)"
   ]
  },
  {
   "cell_type": "code",
   "execution_count": 23,
   "metadata": {},
   "outputs": [
    {
     "data": {
      "text/plain": [
       "[Document(metadata={'source': 'test1'}, page_content='This is a test document about AI.'),\n",
       " Document(metadata={'source': 'test1'}, page_content='This is a test document about AI.'),\n",
       " Document(metadata={'source': 'test1'}, page_content='This is a test document about AI.'),\n",
       " Document(metadata={'source': 'test1'}, page_content='This is a test document about AI.')]"
      ]
     },
     "execution_count": 23,
     "metadata": {},
     "output_type": "execute_result"
    }
   ],
   "source": [
    "# Seach for similar documents\n",
    "query = \"This is a test document about AI.\"\n",
    "vectorstore.search(query=query, search_type=\"similarity\")"
   ]
  },
  {
   "cell_type": "markdown",
   "metadata": {},
   "source": [
    "<br>\n",
    "\n",
    "## Fine-Tune Model\n",
    "\n",
    "---\n",
    "\n",
    "In this section, we will fine-tune the base model using the chat dataset."
   ]
  },
  {
   "cell_type": "code",
   "execution_count": null,
   "metadata": {},
   "outputs": [],
   "source": []
  },
  {
   "cell_type": "code",
   "execution_count": null,
   "metadata": {},
   "outputs": [],
   "source": []
  },
  {
   "cell_type": "code",
   "execution_count": null,
   "metadata": {},
   "outputs": [],
   "source": []
  },
  {
   "cell_type": "markdown",
   "metadata": {},
   "source": [
    "<br>\n",
    "\n",
    "## Agentic Tools\n",
    "\n",
    "---"
   ]
  },
  {
   "cell_type": "code",
   "execution_count": null,
   "metadata": {},
   "outputs": [],
   "source": []
  },
  {
   "cell_type": "code",
   "execution_count": null,
   "metadata": {},
   "outputs": [],
   "source": []
  },
  {
   "cell_type": "markdown",
   "metadata": {},
   "source": [
    "<br>\n",
    "\n",
    "## Prompt Engineering\n",
    "\n",
    "---"
   ]
  },
  {
   "cell_type": "code",
   "execution_count": null,
   "metadata": {},
   "outputs": [],
   "source": []
  },
  {
   "cell_type": "code",
   "execution_count": null,
   "metadata": {},
   "outputs": [],
   "source": []
  },
  {
   "cell_type": "code",
   "execution_count": null,
   "metadata": {},
   "outputs": [],
   "source": []
  },
  {
   "cell_type": "code",
   "execution_count": null,
   "metadata": {},
   "outputs": [],
   "source": []
  },
  {
   "cell_type": "code",
   "execution_count": null,
   "metadata": {},
   "outputs": [],
   "source": []
  },
  {
   "cell_type": "code",
   "execution_count": null,
   "metadata": {},
   "outputs": [],
   "source": []
  },
  {
   "cell_type": "code",
   "execution_count": null,
   "metadata": {},
   "outputs": [],
   "source": []
  }
 ],
 "metadata": {
  "kernelspec": {
   "display_name": "enigma-code-0aWLlfTL-py3.9",
   "language": "python",
   "name": "python3"
  },
  "language_info": {
   "codemirror_mode": {
    "name": "ipython",
    "version": 3
   },
   "file_extension": ".py",
   "mimetype": "text/x-python",
   "name": "python",
   "nbconvert_exporter": "python",
   "pygments_lexer": "ipython3",
   "version": "3.9.19"
  }
 },
 "nbformat": 4,
 "nbformat_minor": 2
}
