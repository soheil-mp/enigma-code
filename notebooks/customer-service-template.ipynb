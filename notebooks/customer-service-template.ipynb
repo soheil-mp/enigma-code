{
 "cells": [
  {
   "cell_type": "markdown",
   "metadata": {},
   "source": [
    "<br>\n",
    "\n",
    "## Initial Setup\n",
    "\n",
    "---\n"
   ]
  },
  {
   "cell_type": "code",
   "execution_count": 1,
   "metadata": {},
   "outputs": [],
   "source": [
    "# Import the libraries\n",
    "import typing\n",
    "import langchain\n",
    "from langchain.embeddings import *\n",
    "from langchain.vectorstores import *\n",
    "from langchain.chains import *\n",
    "import langchain_openai\n",
    "import langchain_groq\n",
    "import langgraph\n",
    "from langgraph.graph import *"
   ]
  },
  {
   "cell_type": "markdown",
   "metadata": {},
   "source": [
    "<br>\n",
    "\n",
    "## Step 1 - Define the State\n",
    "\n",
    "---\n",
    "\n",
    "Create a state object to hold the conversation history and any other relevant information:\n"
   ]
  },
  {
   "cell_type": "code",
   "execution_count": 2,
   "metadata": {},
   "outputs": [],
   "source": [
    "class CustomerServiceState(typing.TypedDict):\n",
    "    messages: typing.Annotated[list, langgraph.graph.message.add_messages]\n",
    "    customer_info: dict\n",
    "    issue_type: str\n",
    "    reservation_details: dict\n",
    "    policy_context: str"
   ]
  },
  {
   "cell_type": "markdown",
   "metadata": {},
   "source": [
    "<br>\n",
    "\n",
    "## Step 2 - Initialize the Graph\n",
    "\n",
    "---\n",
    "\n",
    "Create a StateGraph object to define the structure of your customer service system:"
   ]
  },
  {
   "cell_type": "code",
   "execution_count": 3,
   "metadata": {},
   "outputs": [],
   "source": [
    "graph = langgraph.graph.StateGraph(CustomerServiceState)"
   ]
  },
  {
   "cell_type": "markdown",
   "metadata": {},
   "source": [
    "<br>\n",
    "\n",
    "## Step 3 - Define Nodes\n",
    "\n",
    "---\n",
    "\n",
    "Create nodes for different functions in your customer service system:"
   ]
  },
  {
   "cell_type": "code",
   "execution_count": 4,
   "metadata": {},
   "outputs": [],
   "source": [
    "def greet_customer(state):\n",
    "    # Logic to greet the customer\n",
    "    return state\n",
    "\n",
    "def identify_issue(state):\n",
    "    # Logic to identify the customer's issue\n",
    "    return state\n",
    "\n",
    "def retrieve_policy(state):\n",
    "    # Use RAG to retrieve relevant company policy\n",
    "    policy_context = rag_policy_retrieval(state[\"issue_type\"])\n",
    "    state[\"policy_context\"] = policy_context\n",
    "    return state\n",
    "\n",
    "def resolve_issue(state):\n",
    "    # Logic to resolve the identified issue\n",
    "    return state\n",
    "\n",
    "def book_reservation(state):\n",
    "    # Database operation to book a reservation\n",
    "    reservation_details = db_book_reservation(state[\"reservation_details\"])\n",
    "    state[\"reservation_details\"] = reservation_details\n",
    "    return state\n",
    "\n",
    "def cancel_reservation(state):\n",
    "    # Database operation to cancel a reservation\n",
    "    db_cancel_reservation(state[\"reservation_details\"][\"reservation_id\"])\n",
    "    state[\"reservation_details\"] = {}\n",
    "    return state\n",
    "\n",
    "def update_reservation(state):\n",
    "    # Database operation to update a reservation\n",
    "    updated_details = db_update_reservation(state[\"reservation_details\"])\n",
    "    state[\"reservation_details\"] = updated_details\n",
    "    return state\n",
    "\n",
    "def escalate_to_human(state):\n",
    "    # Logic to escalate complex issues to a human agent\n",
    "    return state"
   ]
  },
  {
   "cell_type": "code",
   "execution_count": 5,
   "metadata": {},
   "outputs": [],
   "source": [
    "graph.add_node(\"greet\", greet_customer)\n",
    "graph.add_node(\"identify\", identify_issue)\n",
    "graph.add_node(\"retrieve_policy\", retrieve_policy)\n",
    "graph.add_node(\"resolve\", resolve_issue)\n",
    "graph.add_node(\"book\", book_reservation)\n",
    "graph.add_node(\"cancel\", cancel_reservation)\n",
    "graph.add_node(\"update\", update_reservation)\n",
    "graph.add_node(\"escalate\", escalate_to_human)"
   ]
  },
  {
   "cell_type": "markdown",
   "metadata": {},
   "source": [
    "<br>\n",
    "\n",
    "## Step 4 - Define Edges and Flow\n",
    "\n",
    "---\n",
    "\n",
    "Connect the nodes to create the flow of your customer service system:"
   ]
  },
  {
   "cell_type": "code",
   "execution_count": 6,
   "metadata": {},
   "outputs": [],
   "source": [
    "graph.add_edge(langgraph.graph.START, \"greet\")\n",
    "graph.add_edge(\"greet\", \"identify\")\n",
    "graph.add_edge(\"identify\", \"retrieve_policy\")\n",
    "\n",
    "def route_issue(state):\n",
    "    if state[\"issue_type\"] == \"booking\":\n",
    "        return \"book\"\n",
    "    elif state[\"issue_type\"] == \"cancellation\":\n",
    "        return \"cancel\"\n",
    "    elif state[\"issue_type\"] == \"update\":\n",
    "        return \"update\"\n",
    "    elif state[\"issue_type\"] == \"complex\":\n",
    "        return \"escalate\"\n",
    "    else:\n",
    "        return \"resolve\"\n",
    "\n",
    "graph.add_conditional_edges(\"retrieve_policy\", route_issue)\n",
    "\n",
    "graph.add_edge(\"book\", \"resolve\")\n",
    "graph.add_edge(\"cancel\", \"resolve\")\n",
    "graph.add_edge(\"update\", \"resolve\")\n",
    "graph.add_edge(\"resolve\", langgraph.graph.END)\n",
    "graph.add_edge(\"escalate\", langgraph.graph.END)"
   ]
  },
  {
   "cell_type": "markdown",
   "metadata": {},
   "source": [
    "<br>\n",
    "\n",
    "## Step 5 - Implement LLM and RAG Integration\n",
    "\n",
    "---\n",
    "\n",
    "Use LangChain's ChatOpenAI for natural language processing and implement RAG for policy retrieval:"
   ]
  },
  {
   "cell_type": "code",
   "execution_count": 6,
   "metadata": {},
   "outputs": [],
   "source": [
    "from langchain.embeddings import OpenAIEmbeddings\n",
    "from langchain.vectorstores import FAISS\n",
    "from langchain.chains import RetrievalQA"
   ]
  },
  {
   "cell_type": "code",
   "execution_count": 7,
   "metadata": {},
   "outputs": [],
   "source": [
    "# Groq LLM\n",
    "llm = langchain_groq.ChatGroq(model=\"llama3-8b-8192\")\n",
    "\n",
    "# OpenAI LLM\n",
    "llm = langchain_openai.ChatOpenAI()"
   ]
  },
  {
   "cell_type": "code",
   "execution_count": 8,
   "metadata": {},
   "outputs": [
    {
     "name": "stderr",
     "output_type": "stream",
     "text": [
      "/home/predator/.cache/pypoetry/virtualenvs/enigma-code-0aWLlfTL-py3.9/lib/python3.9/site-packages/langchain_core/_api/deprecation.py:139: LangChainDeprecationWarning: The class `OpenAIEmbeddings` was deprecated in LangChain 0.0.9 and will be removed in 0.3.0. An updated version of the class exists in the langchain-openai package and should be used instead. To use it run `pip install -U langchain-openai` and import as `from langchain_openai import OpenAIEmbeddings`.\n",
      "  warn_deprecated(\n"
     ]
    }
   ],
   "source": [
    "# Embedding\n",
    "embeddings = langchain.embeddings.OpenAIEmbeddings()"
   ]
  },
  {
   "cell_type": "code",
   "execution_count": 13,
   "metadata": {},
   "outputs": [
    {
     "name": "stdout",
     "output_type": "stream",
     "text": [
      "./../datasets/rules_and_regulations.txt\n"
     ]
    }
   ],
   "source": [
    "!ls ./../datasets/rules_and_regulations.txt "
   ]
  },
  {
   "cell_type": "code",
   "execution_count": 15,
   "metadata": {},
   "outputs": [
    {
     "ename": "RuntimeError",
     "evalue": "Error in faiss::FileIOReader::FileIOReader(const char*) at /project/faiss/faiss/impl/io.cpp:67: Error: 'f' failed: could not open ../datasets/rules_and_regulations.txt/index.faiss for reading: Not a directory",
     "output_type": "error",
     "traceback": [
      "\u001b[0;31m---------------------------------------------------------------------------\u001b[0m",
      "\u001b[0;31mRuntimeError\u001b[0m                              Traceback (most recent call last)",
      "\u001b[0;32m/tmp/ipykernel_96731/2343856557.py\u001b[0m in \u001b[0;36m?\u001b[0;34m()\u001b[0m\n\u001b[0;32m----> 2\u001b[0;31m \u001b[0;31m# Assume we have a vector store of company policies\u001b[0m\u001b[0;34m\u001b[0m\u001b[0;34m\u001b[0m\u001b[0m\n\u001b[0m\u001b[1;32m      3\u001b[0m \u001b[0mvectorstore\u001b[0m \u001b[0;34m=\u001b[0m \u001b[0mFAISS\u001b[0m\u001b[0;34m.\u001b[0m\u001b[0mload_local\u001b[0m\u001b[0;34m(\u001b[0m\u001b[0;34m\"./../datasets/rules_and_regulations.txt\"\u001b[0m\u001b[0;34m,\u001b[0m \u001b[0membeddings\u001b[0m\u001b[0;34m,\u001b[0m \u001b[0mallow_dangerous_deserialization\u001b[0m\u001b[0;34m=\u001b[0m\u001b[0;32mTrue\u001b[0m\u001b[0;34m)\u001b[0m\u001b[0;34m\u001b[0m\u001b[0;34m\u001b[0m\u001b[0m\n",
      "\u001b[0;32m~/.cache/pypoetry/virtualenvs/enigma-code-0aWLlfTL-py3.9/lib/python3.9/site-packages/langchain_community/vectorstores/faiss.py\u001b[0m in \u001b[0;36m?\u001b[0;34m(cls, folder_path, embeddings, index_name, allow_dangerous_deserialization, **kwargs)\u001b[0m\n\u001b[1;32m   1088\u001b[0m             )\n\u001b[1;32m   1089\u001b[0m         \u001b[0mpath\u001b[0m \u001b[0;34m=\u001b[0m \u001b[0mPath\u001b[0m\u001b[0;34m(\u001b[0m\u001b[0mfolder_path\u001b[0m\u001b[0;34m)\u001b[0m\u001b[0;34m\u001b[0m\u001b[0;34m\u001b[0m\u001b[0m\n\u001b[1;32m   1090\u001b[0m         \u001b[0;31m# load index separately since it is not picklable\u001b[0m\u001b[0;34m\u001b[0m\u001b[0;34m\u001b[0m\u001b[0m\n\u001b[1;32m   1091\u001b[0m         \u001b[0mfaiss\u001b[0m \u001b[0;34m=\u001b[0m \u001b[0mdependable_faiss_import\u001b[0m\u001b[0;34m(\u001b[0m\u001b[0;34m)\u001b[0m\u001b[0;34m\u001b[0m\u001b[0;34m\u001b[0m\u001b[0m\n\u001b[0;32m-> 1092\u001b[0;31m         \u001b[0mindex\u001b[0m \u001b[0;34m=\u001b[0m \u001b[0mfaiss\u001b[0m\u001b[0;34m.\u001b[0m\u001b[0mread_index\u001b[0m\u001b[0;34m(\u001b[0m\u001b[0mstr\u001b[0m\u001b[0;34m(\u001b[0m\u001b[0mpath\u001b[0m \u001b[0;34m/\u001b[0m \u001b[0;34mf\"{index_name}.faiss\"\u001b[0m\u001b[0;34m)\u001b[0m\u001b[0;34m)\u001b[0m\u001b[0;34m\u001b[0m\u001b[0;34m\u001b[0m\u001b[0m\n\u001b[0m\u001b[1;32m   1093\u001b[0m \u001b[0;34m\u001b[0m\u001b[0m\n\u001b[1;32m   1094\u001b[0m         \u001b[0;31m# load docstore and index_to_docstore_id\u001b[0m\u001b[0;34m\u001b[0m\u001b[0;34m\u001b[0m\u001b[0m\n\u001b[1;32m   1095\u001b[0m         \u001b[0;32mwith\u001b[0m \u001b[0mopen\u001b[0m\u001b[0;34m(\u001b[0m\u001b[0mpath\u001b[0m \u001b[0;34m/\u001b[0m \u001b[0;34mf\"{index_name}.pkl\"\u001b[0m\u001b[0;34m,\u001b[0m \u001b[0;34m\"rb\"\u001b[0m\u001b[0;34m)\u001b[0m \u001b[0;32mas\u001b[0m \u001b[0mf\u001b[0m\u001b[0;34m:\u001b[0m\u001b[0;34m\u001b[0m\u001b[0;34m\u001b[0m\u001b[0m\n",
      "\u001b[0;32m~/.cache/pypoetry/virtualenvs/enigma-code-0aWLlfTL-py3.9/lib/python3.9/site-packages/faiss/swigfaiss_avx512.py\u001b[0m in \u001b[0;36m?\u001b[0;34m(*args)\u001b[0m\n\u001b[1;32m  10537\u001b[0m \u001b[0;32mdef\u001b[0m \u001b[0mread_index\u001b[0m\u001b[0;34m(\u001b[0m\u001b[0;34m*\u001b[0m\u001b[0margs\u001b[0m\u001b[0;34m)\u001b[0m\u001b[0;34m:\u001b[0m\u001b[0;34m\u001b[0m\u001b[0;34m\u001b[0m\u001b[0m\n\u001b[0;32m> 10538\u001b[0;31m     \u001b[0;32mreturn\u001b[0m \u001b[0m_swigfaiss_avx512\u001b[0m\u001b[0;34m.\u001b[0m\u001b[0mread_index\u001b[0m\u001b[0;34m(\u001b[0m\u001b[0;34m*\u001b[0m\u001b[0margs\u001b[0m\u001b[0;34m)\u001b[0m\u001b[0;34m\u001b[0m\u001b[0;34m\u001b[0m\u001b[0m\n\u001b[0m",
      "\u001b[0;31mRuntimeError\u001b[0m: Error in faiss::FileIOReader::FileIOReader(const char*) at /project/faiss/faiss/impl/io.cpp:67: Error: 'f' failed: could not open ../datasets/rules_and_regulations.txt/index.faiss for reading: Not a directory"
     ]
    }
   ],
   "source": [
    "# Assume we have a vector store of company policies\n",
    "vectorstore = FAISS.load_local(\"./../datasets/rules_and_regulations.txt\", embeddings, allow_dangerous_deserialization=True)"
   ]
  },
  {
   "cell_type": "code",
   "execution_count": null,
   "metadata": {},
   "outputs": [],
   "source": [
    "\n",
    "\n",
    "def rag_policy_retrieval(issue_type):\n",
    "    retriever = policy_vectorstore.as_retriever()\n",
    "    qa_chain = RetrievalQA.from_chain_type(llm, retriever=retriever)\n",
    "    result = qa_chain.run(f\"What is the company policy regarding {issue_type}?\")\n",
    "    return result\n",
    "\n",
    "def identify_issue_with_llm(state):\n",
    "    response = llm.invoke(state[\"messages\"][-1].content)\n",
    "    # Process the response to update the state\n",
    "    return state\n",
    "\n",
    "graph.add_node(\"identify\", identify_issue_with_llm)"
   ]
  },
  {
   "cell_type": "markdown",
   "metadata": {},
   "source": [
    "<br>\n",
    "\n",
    "## 6. Add Database Integration\n",
    "\n",
    "---\n",
    "\n",
    "Implement database operations for reservation management using SQLite:\n"
   ]
  },
  {
   "cell_type": "code",
   "execution_count": 16,
   "metadata": {},
   "outputs": [],
   "source": [
    "import sqlite3\n",
    "\n",
    "def db_book_reservation(details):\n",
    "    conn = sqlite3.connect('reservations.db')\n",
    "    cursor = conn.cursor()\n",
    "    cursor.execute(\"\"\"\n",
    "        INSERT INTO reservations (customer_id, date, time)\n",
    "        VALUES (?, ?, ?)\n",
    "    \"\"\", (details['customer_id'], details['date'], details['time']))\n",
    "    reservation_id = cursor.lastrowid\n",
    "    conn.commit()\n",
    "    conn.close()\n",
    "    return {\"reservation_id\": reservation_id, **details}\n",
    "\n",
    "def db_cancel_reservation(reservation_id):\n",
    "    conn = sqlite3.connect('reservations.db')\n",
    "    cursor = conn.cursor()\n",
    "    cursor.execute(\"DELETE FROM reservations WHERE id = ?\", (reservation_id,))\n",
    "    conn.commit()\n",
    "    conn.close()\n",
    "\n",
    "def db_update_reservation(details):\n",
    "    conn = sqlite3.connect('reservations.db')\n",
    "    cursor = conn.cursor()\n",
    "    cursor.execute(\"\"\"\n",
    "        UPDATE reservations\n",
    "        SET date = ?, time = ?\n",
    "        WHERE id = ?\n",
    "    \"\"\", (details['date'], details['time'], details['reservation_id']))\n",
    "    conn.commit()\n",
    "    conn.close()\n",
    "    return details"
   ]
  },
  {
   "cell_type": "markdown",
   "metadata": {},
   "source": [
    "<br>\n",
    "\n",
    "## 7. Add Error Handling and Persistence\n",
    "\n",
    "---\n",
    "\n",
    "Implement error handling and use LangGraph's built-in persistence:"
   ]
  },
  {
   "cell_type": "code",
   "execution_count": 17,
   "metadata": {},
   "outputs": [
    {
     "ename": "AttributeError",
     "evalue": "'StateGraph' object has no attribute 'add_exception_handler'",
     "output_type": "error",
     "traceback": [
      "\u001b[0;31m---------------------------------------------------------------------------\u001b[0m",
      "\u001b[0;31mAttributeError\u001b[0m                            Traceback (most recent call last)",
      "Cell \u001b[0;32mIn[17], line 5\u001b[0m\n\u001b[1;32m      1\u001b[0m \u001b[38;5;28;01mdef\u001b[39;00m \u001b[38;5;21mhandle_error\u001b[39m(error, state):\n\u001b[1;32m      2\u001b[0m     \u001b[38;5;66;03m# Logic to handle errors\u001b[39;00m\n\u001b[1;32m      3\u001b[0m     \u001b[38;5;28;01mreturn\u001b[39;00m state\n\u001b[0;32m----> 5\u001b[0m \u001b[43mgraph\u001b[49m\u001b[38;5;241;43m.\u001b[39;49m\u001b[43madd_exception_handler\u001b[49m(handle_error)\n",
      "\u001b[0;31mAttributeError\u001b[0m: 'StateGraph' object has no attribute 'add_exception_handler'"
     ]
    }
   ],
   "source": [
    "def handle_error(error, state):\n",
    "    # Logic to handle errors\n",
    "    return state\n",
    "\n",
    "graph.add_exception_handler(handle_error)"
   ]
  },
  {
   "cell_type": "markdown",
   "metadata": {},
   "source": [
    "<br>\n",
    "\n",
    "## Step 8 - Compile and Run the Graph\n",
    "\n",
    "---\n",
    "\n",
    "Compile the graph and create a runnable object:"
   ]
  },
  {
   "cell_type": "code",
   "execution_count": 18,
   "metadata": {},
   "outputs": [],
   "source": [
    "customer_service = graph.compile()"
   ]
  },
  {
   "cell_type": "code",
   "execution_count": 20,
   "metadata": {},
   "outputs": [],
   "source": [
    "from IPython.display import *\n"
   ]
  },
  {
   "cell_type": "code",
   "execution_count": 23,
   "metadata": {},
   "outputs": [
    {
     "data": {
      "image/jpeg": "[encoded data removed]",
      "text/plain": [
       "<IPython.core.display.Image object>"
      ]
     },
     "metadata": {
      "image/jpeg": {
       "height": 700,
       "width": 600
      }
     },
     "output_type": "display_data"
    }
   ],
   "source": [
    "# Generate the image\n",
    "image_data = customer_service.get_graph(xray=True).draw_mermaid_png()\n",
    "\n",
    "# Save the image to a file\n",
    "with open(\"graph.png\", \"wb\") as f:\n",
    "\tf.write(image_data)\n",
    "\n",
    "# Optionally, display the image in the notebook\n",
    "display(Image(image_data, width=600, height=700))"
   ]
  },
  {
   "cell_type": "markdown",
   "metadata": {},
   "source": [
    "Use the runnable object to process customer inquiries:"
   ]
  },
  {
   "cell_type": "code",
   "execution_count": null,
   "metadata": {},
   "outputs": [],
   "source": [
    "final_state = customer_service.invoke({\n",
    "    \"messages\": [{\"role\": \"user\", \"content\": \"I need to book a reservation for tomorrow\"}],\n",
    "    \"customer_info\": {\"id\": 12345},\n",
    "    \"reservation_details\": {\"customer_id\": 12345, \"date\": \"2024-07-29\", \"time\": \"19:00\"}\n",
    "})"
   ]
  },
  {
   "cell_type": "markdown",
   "metadata": {},
   "source": [
    "<br>\n",
    "\n",
    "## Step 9 - Implement Monitoring and Feedback\n",
    "\n",
    "---\n",
    "\n",
    "Use Langfuse or other monitoring tools to track performance and gather user feedback:"
   ]
  },
  {
   "cell_type": "code",
   "execution_count": null,
   "metadata": {},
   "outputs": [],
   "source": [
    "from langfuse.model import Trace\n",
    "\n",
    "def process_customer_inquiry(inquiry):\n",
    "    with Trace(name=\"customer_service_interaction\") as trace:\n",
    "        final_state = customer_service.invoke({\"messages\": [HumanMessage(content=inquiry)]})\n",
    "        trace.score(\"customer_satisfaction\", score=get_customer_feedback())\n",
    "    return final_state"
   ]
  },
  {
   "cell_type": "markdown",
   "metadata": {},
   "source": [
    "<br>\n",
    "\n",
    "## 10 - Testing and Validation\n",
    "\n",
    "---\n",
    "\n",
    "Ensure thorough testing of each node and the overall workflow to validate the customer service system:"
   ]
  },
  {
   "cell_type": "code",
   "execution_count": null,
   "metadata": {},
   "outputs": [],
   "source": [
    "def test_greet_customer():\n",
    "    state = {\"messages\": [], \"customer_info\": {}, \"issue_type\": \"\", \"reservation_details\": {}, \"policy_context\": \"\"}\n",
    "    updated_state = greet_customer(state)\n",
    "    assert updated_state[\"messages\"][-1][\"content\"] == \"Welcome! How can I assist you today?\"\n",
    "\n",
    "test_greet_customer()"
   ]
  },
  {
   "cell_type": "code",
   "execution_count": null,
   "metadata": {},
   "outputs": [],
   "source": []
  },
  {
   "cell_type": "code",
   "execution_count": null,
   "metadata": {},
   "outputs": [],
   "source": []
  },
  {
   "cell_type": "code",
   "execution_count": null,
   "metadata": {},
   "outputs": [],
   "source": []
  },
  {
   "cell_type": "code",
   "execution_count": null,
   "metadata": {},
   "outputs": [],
   "source": []
  }
 ],
 "metadata": {
  "kernelspec": {
   "display_name": "enigma-code-0aWLlfTL-py3.9",
   "language": "python",
   "name": "python3"
  },
  "language_info": {
   "codemirror_mode": {
    "name": "ipython",
    "version": 3
   },
   "file_extension": ".py",
   "mimetype": "text/x-python",
   "name": "python",
   "nbconvert_exporter": "python",
   "pygments_lexer": "ipython3",
   "version": "3.9.19"
  }
 },
 "nbformat": 4,
 "nbformat_minor": 2
}
